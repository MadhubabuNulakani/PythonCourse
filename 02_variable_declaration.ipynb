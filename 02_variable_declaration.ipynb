{
 "cells": [
  {
   "cell_type": "markdown",
   "id": "c1e107c0-88ac-410b-9270-2fb49aaa450a",
   "metadata": {},
   "source": [
    "# Variable Declaration"
   ]
  },
  {
   "cell_type": "code",
   "execution_count": 15,
   "id": "4fa17294-1d03-414a-a360-a9d33d491952",
   "metadata": {},
   "outputs": [
    {
     "name": "stdout",
     "output_type": "stream",
     "text": [
      "140716386927688\n"
     ]
    }
   ],
   "source": [
    "rupees=10\n",
    "print(id(rupees))"
   ]
  },
  {
   "cell_type": "code",
   "execution_count": 17,
   "id": "3ffc3df2-26cc-416d-a946-edb8fdbc0b35",
   "metadata": {},
   "outputs": [
    {
     "name": "stdout",
     "output_type": "stream",
     "text": [
      "10\n"
     ]
    }
   ],
   "source": [
    "print(rupees)"
   ]
  },
  {
   "cell_type": "code",
   "execution_count": 11,
   "id": "929a28ca-ddd4-4dee-ad60-0fe969f1244b",
   "metadata": {},
   "outputs": [
    {
     "name": "stdout",
     "output_type": "stream",
     "text": [
      "hyderabad\n"
     ]
    }
   ],
   "source": [
    "address=\"hyderabad\"\n",
    "print(address)"
   ]
  },
  {
   "cell_type": "code",
   "execution_count": 30,
   "id": "2b5f6262-9d41-46cb-a7de-4105247e1a9b",
   "metadata": {},
   "outputs": [
    {
     "name": "stdout",
     "output_type": "stream",
     "text": [
      "madhu , 29 20 20\n",
      "140716386928008\n"
     ]
    }
   ],
   "source": [
    "name,age,rupees=\"madhu\",29,20\n",
    "print(name,\",\",age,rupees,rupees)\n",
    "print(id(rupees))"
   ]
  },
  {
   "cell_type": "code",
   "execution_count": 31,
   "id": "b37f1ff1-d38a-47f6-8d09-3cd47236f66c",
   "metadata": {},
   "outputs": [
    {
     "name": "stdout",
     "output_type": "stream",
     "text": [
      "140716386930856\n"
     ]
    }
   ],
   "source": [
    "rupees=109\n",
    "print(id(rupees))"
   ]
  },
  {
   "cell_type": "code",
   "execution_count": 32,
   "id": "bac22aec-f57d-42cd-82f4-548075ee7735",
   "metadata": {},
   "outputs": [
    {
     "name": "stdout",
     "output_type": "stream",
     "text": [
      "140716386930824\n"
     ]
    }
   ],
   "source": [
    "rupees=108\n",
    "print(id(rupees))"
   ]
  },
  {
   "cell_type": "code",
   "execution_count": 36,
   "id": "0b52e3d8-1b3e-45d9-9022-cf68775f6090",
   "metadata": {},
   "outputs": [
    {
     "name": "stdout",
     "output_type": "stream",
     "text": [
      "140716386927688\n",
      "140716386927688\n"
     ]
    }
   ],
   "source": [
    "Rupees=10\n",
    "print(id(rupees))\n",
    "value=10\n",
    "print(id(value))"
   ]
  },
  {
   "cell_type": "code",
   "execution_count": 45,
   "id": "0219419f-1deb-4c08-82e4-a1094305155d",
   "metadata": {},
   "outputs": [
    {
     "name": "stdout",
     "output_type": "stream",
     "text": [
      "('python', 20, 2.5)\n"
     ]
    }
   ],
   "source": [
    "values=\"python\",20,2.5\n",
    "print(values)"
   ]
  },
  {
   "cell_type": "code",
   "execution_count": 51,
   "id": "8e485994-9a02-4664-9edc-c642e566302a",
   "metadata": {},
   "outputs": [
    {
     "name": "stdout",
     "output_type": "stream",
     "text": [
      "26 26\n",
      "140716386928200 140716386928200\n"
     ]
    }
   ],
   "source": [
    "male=26\n",
    "female=26\n",
    "print(male,female)\n",
    "print(id(male),id(female))\n"
   ]
  },
  {
   "cell_type": "code",
   "execution_count": null,
   "id": "c3ac0abd-b96f-44e0-bb27-9652548eb042",
   "metadata": {},
   "outputs": [],
   "source": []
  }
 ],
 "metadata": {
  "kernelspec": {
   "display_name": "Python 3 (ipykernel)",
   "language": "python",
   "name": "python3"
  },
  "language_info": {
   "codemirror_mode": {
    "name": "ipython",
    "version": 3
   },
   "file_extension": ".py",
   "mimetype": "text/x-python",
   "name": "python",
   "nbconvert_exporter": "python",
   "pygments_lexer": "ipython3",
   "version": "3.11.7"
  }
 },
 "nbformat": 4,
 "nbformat_minor": 5
}
