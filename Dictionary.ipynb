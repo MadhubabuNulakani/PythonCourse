{
 "cells": [
  {
   "cell_type": "markdown",
   "id": "397d82f8-3b03-4767-a35c-d19e625f17f8",
   "metadata": {},
   "source": [
    "### Creation\n",
    "#### Dictionaries are created using curly braces {} or the dict() function."
   ]
  },
  {
   "cell_type": "code",
   "execution_count": 1,
   "id": "03dd4371-2b54-4133-be72-e8b8c22ac282",
   "metadata": {},
   "outputs": [
    {
     "name": "stdout",
     "output_type": "stream",
     "text": [
      "{} <class 'dict'>\n",
      "{} <class 'dict'>\n"
     ]
    }
   ],
   "source": [
    "# empty dictionary\n",
    "empty_dict = {}\n",
    "print(empty_dict, type(empty_dict))\n",
    "empty_dict = dict()\n",
    "print(empty_dict, type(empty_dict))"
   ]
  },
  {
   "cell_type": "markdown",
   "id": "917d2d54-703f-499f-bd32-8f6110ad6708",
   "metadata": {},
   "source": [
    "### Initialization of dictionary"
   ]
  },
  {
   "cell_type": "code",
   "execution_count": 2,
   "id": "36e0528b-639d-425d-a50b-10862144ce50",
   "metadata": {},
   "outputs": [
    {
     "name": "stdout",
     "output_type": "stream",
     "text": [
      "initialization of dict without using dict() method --- {'key1': 'value1', 'key2': 'value2'}, <class 'dict'>\n",
      "initialization of dict with using dict() method --- {'key1': 'value1', 'key2': 'value2'}, <class 'dict'>\n"
     ]
    }
   ],
   "source": [
    "my_dict = {'key1': 'value1', 'key2': 'value2'}\n",
    "print(f\"initialization of dict without using dict() method --- {my_dict}, {type(my_dict)}\")\n",
    "my_dict = dict(key1='value1', key2='value2')\n",
    "print(f\"initialization of dict with using dict() method --- {my_dict}, {type(my_dict)}\")"
   ]
  },
  {
   "cell_type": "code",
   "execution_count": 3,
   "id": "f4882769-8b11-41de-a109-9ca261d576ef",
   "metadata": {},
   "outputs": [
    {
     "name": "stdout",
     "output_type": "stream",
     "text": [
      "{'Name': 'Madhu', 'age': 24, 'sal': 2000000} <class 'dict'>\n"
     ]
    }
   ],
   "source": [
    "# initialization of dict with out using dict() method\n",
    "emp_details = {\"Name\": \"Madhu\", \"age\": 24, \"sal\": 2000000}\n",
    "print(emp_details, type(emp_details))"
   ]
  },
  {
   "cell_type": "code",
   "execution_count": 4,
   "id": "965eb2f5-e2d9-4fd3-ba41-10cf88d87bfe",
   "metadata": {},
   "outputs": [
    {
     "name": "stdout",
     "output_type": "stream",
     "text": [
      "{'Name': 'Madhu', 'age': 24, 'sal': 2000000} <class 'dict'>\n"
     ]
    }
   ],
   "source": [
    "# initialization of dict with using dict() method\n",
    "emp_details = dict(Name=\"Madhu\", age= 24, sal= 2000000)\n",
    "print(emp_details, type(emp_details))"
   ]
  },
  {
   "cell_type": "markdown",
   "id": "53836798-83b3-438f-9fd5-3f5656091410",
   "metadata": {},
   "source": [
    "### Accessing Elements"
   ]
  },
  {
   "cell_type": "code",
   "execution_count": 5,
   "id": "510c0212-4d70-4eea-9a9d-3c2eb7473539",
   "metadata": {},
   "outputs": [
    {
     "name": "stdout",
     "output_type": "stream",
     "text": [
      "accessing by key [] : Madhu\n",
      "Accessing by get method : Madhu\n",
      "Accessing by get method : Key not found\n"
     ]
    }
   ],
   "source": [
    "# Access by Key: Access the value associated with a key using square brackets [].\n",
    "value=emp_details['Name']\n",
    "print(f\"accessing by key [] : {value}\")\n",
    "\n",
    "# get() Method: Use get() to access values safely, providing a default if the key is not found.\n",
    "value = emp_details.get('Name', 'Key not found')\n",
    "print(f\"Accessing by get method : {value}\")\n",
    "\n",
    "value = emp_details.get('name', 'Key not found')\n",
    "print(f\"Accessing by get method : {value}\")"
   ]
  },
  {
   "cell_type": "markdown",
   "id": "0c999424-7932-48cd-ac6f-4660e7a42a5c",
   "metadata": {},
   "source": [
    "### Modifying Dictionaries"
   ]
  },
  {
   "cell_type": "code",
   "execution_count": 6,
   "id": "c6f59d9a-84b4-4ea1-9e0c-756ea79fe9d3",
   "metadata": {},
   "outputs": [
    {
     "name": "stdout",
     "output_type": "stream",
     "text": [
      "before modification dict values : {'Name': 'Madhu', 'age': 24, 'sal': 2000000}\n",
      "after modified dict values : {'Name': 'Kumar', 'age': 24, 'sal': 2000000}\n"
     ]
    }
   ],
   "source": [
    "# Adding or Updating Elements: Add a new key-value pair or update an existing key's value.\n",
    "my_dict['key3'] = 'value3'\n",
    "my_dict['key1'] = 'new_value'\n",
    "\n",
    "print(f\"before modification dict values : {emp_details}\")\n",
    "emp_details['Name']='Kumar'\n",
    "print(f\"after modified dict values : {emp_details}\")\n"
   ]
  },
  {
   "cell_type": "code",
   "execution_count": 7,
   "id": "6c01fae8-caff-42df-85b9-4f723f3182bb",
   "metadata": {},
   "outputs": [
    {
     "name": "stdout",
     "output_type": "stream",
     "text": [
      "dictionary values : {'Name': 'Kumar', 'age': 24, 'sal': 2000000}\n",
      "by using pop() method: Kumar\n",
      "after removed name dictionary values : {'age': 24, 'sal': 2000000}\n"
     ]
    }
   ],
   "source": [
    "# Removing Elements: Use pop(), del, or popitem() to remove elements.\n",
    "\n",
    "# value = my_dict.pop('key1')  Removes 'key1' and returns its value\n",
    "# del my_dict['key2']   Deletes 'key2'\n",
    "# key, value = my_dict.popitem()   Removes and returns an arbitrary (key, value) pair\n",
    "\n",
    "# pop() method operation\n",
    "print(f\"dictionary values : {emp_details}\")\n",
    "value = emp_details.pop('Name')\n",
    "print(f\"by using pop() method: {value}\")\n",
    "print(f\"after removed name dictionary values : {emp_details}\")"
   ]
  },
  {
   "cell_type": "code",
   "execution_count": 8,
   "id": "617e09c5-815d-4e68-b738-21c5fc907478",
   "metadata": {},
   "outputs": [
    {
     "name": "stdout",
     "output_type": "stream",
     "text": [
      "dictionary values : {'Name': 'Madhu', 'age': 24, 'sal': 2000000}\n",
      "after removed name dictionary values : {'age': 24, 'sal': 2000000}\n"
     ]
    }
   ],
   "source": [
    "# using del\n",
    "emp_details_1={'Name': 'Madhu', 'age': 24, 'sal': 2000000}\n",
    "print(f\"dictionary values : {emp_details_1}\")\n",
    "del emp_details_1['Name']\n",
    "print(f\"after removed name dictionary values : {emp_details_1}\")"
   ]
  },
  {
   "cell_type": "code",
   "execution_count": 9,
   "id": "a5cee79f-34ec-4b9e-a718-9ab8cf3532e8",
   "metadata": {},
   "outputs": [
    {
     "name": "stdout",
     "output_type": "stream",
     "text": [
      "dictionary values : {'Name': 'Madhu', 'age': 24, 'sal': 2000000}\n",
      " {'Name': 'Madhu', 'age': 24}\n"
     ]
    }
   ],
   "source": [
    "# using popitem() method\n",
    "emp_details_2={'Name': 'Madhu', 'age': 24, 'sal': 2000000}\n",
    "print(f\"dictionary values : {emp_details_2}\")\n",
    "key, value = emp_details_2.popitem()\n",
    "print(f\" {emp_details_2}\")"
   ]
  },
  {
   "cell_type": "markdown",
   "id": "48cbc8d4-b51e-43e8-a3b2-ce37874d09d3",
   "metadata": {},
   "source": [
    "### Dictionary Methods"
   ]
  },
  {
   "cell_type": "markdown",
   "id": "db9539de-23a9-421b-aca7-ac5290e230cc",
   "metadata": {},
   "source": [
    "#### keys() & values() & items()"
   ]
  },
  {
   "cell_type": "code",
   "execution_count": 10,
   "id": "2e6d28e7-706a-401e-8c7a-6d8497029539",
   "metadata": {},
   "outputs": [
    {
     "name": "stdout",
     "output_type": "stream",
     "text": [
      "dict_keys(['Name', 'age', 'sal'])\n",
      "dict_values(['Madhu', 24, 2000000])\n",
      "dict_items([('Name', 'Madhu'), ('age', 24), ('sal', 2000000)])\n"
     ]
    }
   ],
   "source": [
    "# keys(): Returns a view object of all keys.\n",
    "emp_details={'Name': 'Madhu', 'age': 24, 'sal': 2000000}\n",
    "keys = emp_details.keys()\n",
    "print(f\"{keys}\")\n",
    "\n",
    "# values(): Returns a view object of all values.\n",
    "values = emp_details.values()\n",
    "print(f\"{values}\")\n",
    "\n",
    "# items(): Returns a view object of all key-value pairs.\n",
    "items = emp_details.items()\n",
    "print(f\"{items}\")"
   ]
  },
  {
   "cell_type": "markdown",
   "id": "6c0b4df2-8633-4852-8cd9-b59620b996c9",
   "metadata": {},
   "source": [
    "#### update(): Updates the dictionary with elements from another dictionary or iterable of key-value pairs.\n",
    "#### copy(): Returns a shallow copy of the dictionary.\n",
    "#### clear(): Removes all elements from the dictionary."
   ]
  },
  {
   "cell_type": "code",
   "execution_count": 15,
   "id": "ae201a74-9786-4b38-9737-b9b0f818ca22",
   "metadata": {},
   "outputs": [
    {
     "name": "stdout",
     "output_type": "stream",
     "text": [
      "before updating the dict values: {'Name': 'Sai', 'age': 24, 'sal': 2000000}\n",
      "after updating the dict values: {'Name': 'Sai', 'age': 24, 'sal': 2000000}\n",
      "Copied Dict Values : {'Name': 'Sai', 'age': 24, 'sal': 2000000}\n",
      "empty Dict : {}\n"
     ]
    }
   ],
   "source": [
    "print(f\"before updating the dict values: {emp_details}\")\n",
    "\n",
    "# update()\n",
    "emp_details.update({'Name': 'Sai', 'age': 24})\n",
    "print(f\"after updating the dict values: {emp_details}\")\n",
    "\n",
    "# copy()\n",
    "stu_details=emp_details.copy()\n",
    "print(f\"Copied Dict Values : {stu_details}\")\n",
    "\n",
    "# clear()\n",
    "stu_details.clear()\n",
    "print(f\"empty Dict : {stu_details}\")"
   ]
  },
  {
   "cell_type": "markdown",
   "id": "cb950707-8b36-406a-81e3-2cd846f178c9",
   "metadata": {},
   "source": [
    "### Checking Keys: Use the in keyword to check if a key exists in the dictionary"
   ]
  },
  {
   "cell_type": "code",
   "execution_count": 16,
   "id": "251bcb30-e69d-4e5a-a76e-d0c6a3dd4fc8",
   "metadata": {},
   "outputs": [
    {
     "name": "stdout",
     "output_type": "stream",
     "text": [
      "True\n"
     ]
    }
   ],
   "source": [
    "exists = 'Name' in emp_details\n",
    "print(exists)"
   ]
  },
  {
   "cell_type": "markdown",
   "id": "c7266b29-ede5-4e23-a8f6-f941d59060a3",
   "metadata": {},
   "source": [
    "### fromkeys()"
   ]
  },
  {
   "cell_type": "code",
   "execution_count": 20,
   "id": "76f135d3-7b2a-4a34-9b0a-5e085d235c18",
   "metadata": {},
   "outputs": [
    {
     "name": "stdout",
     "output_type": "stream",
     "text": [
      "{'Name': None, 'age': None, 'sal': None}\n",
      "{'Name': 0, 'age': 0, 'sal': 0}\n",
      "{'a': 'default', 'b': 'default', 'c': 'default'}\n"
     ]
    }
   ],
   "source": [
    "# The fromkeys method in Python is used to create a new dictionary with keys from an iterable and values set to a specified value.\n",
    "# It is a class method, meaning it is called on the dictionary class itself (dict), not on an instance of a dictionary.\n",
    "\n",
    " #   dict.fromkeys(iterable, value=None)\n",
    "\n",
    "# iterable: An iterable (e.g., list, tuple, string) that contains the keys for the new dictionary.\n",
    "# value: The value assigned to each key. The default is None.\n",
    "\n",
    "# Create a dictionary with keys from a list and a default value of None\n",
    "keys = ['Name', 'age', 'sal']\n",
    "new_dict = dict.fromkeys(keys)\n",
    "print(new_dict)  # Output: {'a': None, 'b': None, 'c': None}\n",
    "\n",
    "# Create a dictionary with keys from a list and a specified value\n",
    "value = 0\n",
    "new_dict_with_value = dict.fromkeys(keys, value)\n",
    "print(new_dict_with_value)  # Output: {'a': 0, 'b': 0, 'c': 0}\n",
    "\n",
    "# Create a dictionary with keys from a string and a specified value\n",
    "string_keys = 'abc'\n",
    "new_dict_string_keys = dict.fromkeys(string_keys, 'default')\n",
    "print(new_dict_string_keys)  # Output: {'a': 'default', 'b': 'default', 'c': 'default'}\n",
    "\n",
    "# The fromkeys method is useful for quickly creating a dictionary with a predefined set of keys and initializing them to the same value.\n",
    "# If the value parameter is mutable (e.g., a list or dictionary), all keys will refer to the same object in memory.\n",
    "# Modifying this object through one key will affect all keys.\n"
   ]
  },
  {
   "cell_type": "markdown",
   "id": "142d413c-1fc5-4f4f-abfd-608b308512bf",
   "metadata": {},
   "source": [
    "### setdefault()\n",
    "#### The setdefault method in Python is used to get the value of a key in a dictionary. If the key does not exist, it inserts the key with a specified default value and then returns the value."
   ]
  },
  {
   "cell_type": "code",
   "execution_count": 23,
   "id": "387d3786-7838-4ca7-b357-168990b2f425",
   "metadata": {},
   "outputs": [
    {
     "name": "stdout",
     "output_type": "stream",
     "text": [
      "1\n",
      "{'a': 1, 'b': 2}\n",
      "100\n",
      "{'a': 1, 'b': 2, 'c': 100}\n"
     ]
    }
   ],
   "source": [
    "my_dict = {'a': 1, 'b': 2}\n",
    "\n",
    "# if key is existed\n",
    "value = my_dict.setdefault('a', 100)\n",
    "print(value)  # Output: 1\n",
    "print(my_dict)  # Output: {'a': 1, 'b': 2}\n",
    "\n",
    "# if key is not existed \n",
    "my_dict = {'a': 1, 'b': 2}\n",
    "value = my_dict.setdefault('c', 100)\n",
    "print(value)  # Output: 100\n",
    "print(my_dict)  # Output: {'a': 1, 'b': 2, 'c': 100}\n",
    "\n"
   ]
  },
  {
   "cell_type": "code",
   "execution_count": 24,
   "id": "1a3a9343-f2b3-4ede-afa7-0c4ba8d2c2f9",
   "metadata": {},
   "outputs": [
    {
     "name": "stdout",
     "output_type": "stream",
     "text": [
      "Key 'a' is in the dictionary.\n",
      "Key 'd' is not in the dictionary.\n"
     ]
    }
   ],
   "source": [
    "# d.__contains__(key)\n",
    " # in-build method instead of d.__contains__(key)\n",
    "my_dict = {'a': 1, 'b': 2, 'c': 3}\n",
    "\n",
    "# Check if key 'a' is in the dictionary\n",
    "if 'a' in my_dict:\n",
    "    print(\"Key 'a' is in the dictionary.\")\n",
    "\n",
    "# Check if key 'd' is not in the dictionary\n",
    "if 'd' not in my_dict:\n",
    "    print(\"Key 'd' is not in the dictionary.\")\n"
   ]
  },
  {
   "cell_type": "code",
   "execution_count": 27,
   "id": "0662cb35-ea88-4303-9937-175db5701540",
   "metadata": {},
   "outputs": [
    {
     "name": "stdout",
     "output_type": "stream",
     "text": [
      "dict values : {'Name': 'Madhu', 'age': 24, 'sal': 2000000}\n",
      "dict values after deleting: {'age': 24, 'sal': 2000000}\n"
     ]
    }
   ],
   "source": [
    "# d.__delitem__(key)\n",
    "\n",
    " # in-build method instead of d.__delitem__(key)\n",
    "emp_details={'Name': 'Madhu', 'age': 24, 'sal': 2000000}\n",
    "print(f\"dict values : {emp_details}\")\n",
    "# Delete an item\n",
    "del emp_details['Name']\n",
    "print(f\"dict values after deleting: {emp_details}\")"
   ]
  },
  {
   "cell_type": "code",
   "execution_count": 30,
   "id": "c3b7b1ee-3202-4840-bf53-187695b9d68f",
   "metadata": {},
   "outputs": [
    {
     "name": "stdout",
     "output_type": "stream",
     "text": [
      "length of the dict : 2\n"
     ]
    }
   ],
   "source": [
    "#  d.__getitems__(key)\n",
    "\n",
    "# d.__setitem__(key)\n",
    "\n",
    "# d.__len__(key)\n",
    "  # in-build method instead of d.__len__(key)\n",
    "print(f\"length of the dict : {len(emp_details)}\")  # Output: 3\n"
   ]
  }
 ],
 "metadata": {
  "kernelspec": {
   "display_name": "Python 3 (ipykernel)",
   "language": "python",
   "name": "python3"
  },
  "language_info": {
   "codemirror_mode": {
    "name": "ipython",
    "version": 3
   },
   "file_extension": ".py",
   "mimetype": "text/x-python",
   "name": "python",
   "nbconvert_exporter": "python",
   "pygments_lexer": "ipython3",
   "version": "3.11.7"
  }
 },
 "nbformat": 4,
 "nbformat_minor": 5
}
