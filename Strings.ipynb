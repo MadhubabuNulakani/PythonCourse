{
 "cells": [
  {
   "cell_type": "code",
   "execution_count": 33,
   "id": "98022f8e-9590-40b3-baa2-d48965e57bc0",
   "metadata": {},
   "outputs": [
    {
     "data": {
      "text/plain": [
       "''"
      ]
     },
     "execution_count": 33,
     "metadata": {},
     "output_type": "execute_result"
    }
   ],
   "source": [
    "name='rama'\n",
    "name[-2:-2]"
   ]
  },
  {
   "cell_type": "code",
   "execution_count": 4,
   "id": "1a063ebb-a738-46db-ba20-7adfcaa8df94",
   "metadata": {},
   "outputs": [
    {
     "name": "stdout",
     "output_type": "stream",
     "text": [
      "140720227009608\n",
      "140720227012488\n"
     ]
    }
   ],
   "source": [
    "a=10\n",
    "print(id(a))\n",
    "\"    \"\n",
    "\n",
    "a=100\n",
    "print(id(a))"
   ]
  }
 ],
 "metadata": {
  "kernelspec": {
   "display_name": "Python 3 (ipykernel)",
   "language": "python",
   "name": "python3"
  },
  "language_info": {
   "codemirror_mode": {
    "name": "ipython",
    "version": 3
   },
   "file_extension": ".py",
   "mimetype": "text/x-python",
   "name": "python",
   "nbconvert_exporter": "python",
   "pygments_lexer": "ipython3",
   "version": "3.11.7"
  }
 },
 "nbformat": 4,
 "nbformat_minor": 5
}
