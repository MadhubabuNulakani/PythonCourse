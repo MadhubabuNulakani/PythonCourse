{
 "cells": [
  {
   "cell_type": "markdown",
   "id": "cf779767-75b0-4d11-8c50-a8f90829b834",
   "metadata": {},
   "source": [
    "### Integer Conversion"
   ]
  },
  {
   "cell_type": "code",
   "execution_count": 2,
   "id": "42ecf021-3801-4b0d-bba1-1fe7d2cad4e0",
   "metadata": {},
   "outputs": [
    {
     "name": "stdout",
     "output_type": "stream",
     "text": [
      "5.0\n"
     ]
    }
   ],
   "source": [
    "# interger to float\n",
    "x = 5\n",
    "y = float(x)  # y will be 5.0\n",
    "print(y)"
   ]
  },
  {
   "cell_type": "code",
   "execution_count": 3,
   "id": "10ea9060-e00a-41ca-890d-0cb00bd6a1ea",
   "metadata": {},
   "outputs": [
    {
     "name": "stdout",
     "output_type": "stream",
     "text": [
      "5\n"
     ]
    }
   ],
   "source": [
    "# interger to string\n",
    "x = 5\n",
    "y = str(x)  # y will be '5'\n",
    "print(y)"
   ]
  },
  {
   "cell_type": "code",
   "execution_count": 9,
   "id": "251202ef-d18a-4bb7-a271-06b8c1f0c95a",
   "metadata": {},
   "outputs": [
    {
     "name": "stdout",
     "output_type": "stream",
     "text": [
      "(5+0j)\n"
     ]
    }
   ],
   "source": [
    "# Converting an integer to a complex number\n",
    "integer_number = 5\n",
    "complex_number = complex(integer_number)\n",
    "\n",
    "print(complex_number)  # Output: (5+0j)"
   ]
  },
  {
   "cell_type": "code",
   "execution_count": 18,
   "id": "3ca20411-2b4c-44ca-ac0f-ecfc3c154e15",
   "metadata": {},
   "outputs": [
    {
     "name": "stdout",
     "output_type": "stream",
     "text": [
      "0 --> False\n",
      "1 --> True\n",
      "-1 --> True\n"
     ]
    }
   ],
   "source": [
    "# Converting an integer to a boolean\n",
    "number = 0\n",
    "boolean_value = bool(number)\n",
    "print(f\"{number} --> {boolean_value}\")  \n",
    "\n",
    "number = 1\n",
    "boolean_value = bool(number)\n",
    "print(f\"{number} --> {boolean_value}\")  \n",
    "\n",
    "number = -1\n",
    "boolean_value = bool(number)\n",
    "print(f\"{number} --> {boolean_value}\") \n"
   ]
  },
  {
   "cell_type": "code",
   "execution_count": 19,
   "id": "25d4ef4e-3ac4-49aa-8f9d-6bb85901841b",
   "metadata": {},
   "outputs": [
    {
     "ename": "TypeError",
     "evalue": "'int' object is not iterable",
     "output_type": "error",
     "traceback": [
      "\u001b[1;31m---------------------------------------------------------------------------\u001b[0m",
      "\u001b[1;31mTypeError\u001b[0m                                 Traceback (most recent call last)",
      "Cell \u001b[1;32mIn[19], line 3\u001b[0m\n\u001b[0;32m      1\u001b[0m \u001b[38;5;66;03m# Converting an integer to a list\u001b[39;00m\n\u001b[0;32m      2\u001b[0m number \u001b[38;5;241m=\u001b[39m \u001b[38;5;241m12345\u001b[39m\n\u001b[1;32m----> 3\u001b[0m integer_list \u001b[38;5;241m=\u001b[39m \u001b[38;5;28mlist\u001b[39m(number)\n\u001b[0;32m      5\u001b[0m \u001b[38;5;28mprint\u001b[39m(integer_list)\n",
      "\u001b[1;31mTypeError\u001b[0m: 'int' object is not iterable"
     ]
    }
   ],
   "source": [
    "# Converting an integer to a list\n",
    "number = 12345\n",
    "integer_list = list(number)\n",
    "print(integer_list)  "
   ]
  },
  {
   "cell_type": "code",
   "execution_count": 22,
   "id": "169f6e61-e64f-4dfa-9cb5-76534153ab41",
   "metadata": {},
   "outputs": [
    {
     "ename": "TypeError",
     "evalue": "'int' object is not iterable",
     "output_type": "error",
     "traceback": [
      "\u001b[1;31m---------------------------------------------------------------------------\u001b[0m",
      "\u001b[1;31mTypeError\u001b[0m                                 Traceback (most recent call last)",
      "Cell \u001b[1;32mIn[22], line 3\u001b[0m\n\u001b[0;32m      1\u001b[0m \u001b[38;5;66;03m# Converting an integer to a tuple\u001b[39;00m\n\u001b[0;32m      2\u001b[0m integer_number \u001b[38;5;241m=\u001b[39m \u001b[38;5;241m123\u001b[39m\n\u001b[1;32m----> 3\u001b[0m integer_tuple \u001b[38;5;241m=\u001b[39m \u001b[38;5;28mtuple\u001b[39m(integer_number)\n\u001b[0;32m      5\u001b[0m \u001b[38;5;28mprint\u001b[39m(integer_tuple)\n",
      "\u001b[1;31mTypeError\u001b[0m: 'int' object is not iterable"
     ]
    }
   ],
   "source": [
    "# Converting an integer to a tuple\n",
    "integer_number = 123\n",
    "integer_tuple = tuple(integer_number)\n",
    "print(integer_tuple) "
   ]
  },
  {
   "cell_type": "code",
   "execution_count": 23,
   "id": "704ac71e-cc18-4c64-97dd-10a74917ae8b",
   "metadata": {},
   "outputs": [
    {
     "ename": "TypeError",
     "evalue": "'int' object is not iterable",
     "output_type": "error",
     "traceback": [
      "\u001b[1;31m---------------------------------------------------------------------------\u001b[0m",
      "\u001b[1;31mTypeError\u001b[0m                                 Traceback (most recent call last)",
      "Cell \u001b[1;32mIn[23], line 3\u001b[0m\n\u001b[0;32m      1\u001b[0m \u001b[38;5;66;03m# Converting an integer to a set\u001b[39;00m\n\u001b[0;32m      2\u001b[0m integer_number \u001b[38;5;241m=\u001b[39m \u001b[38;5;241m12345\u001b[39m\n\u001b[1;32m----> 3\u001b[0m integer_set \u001b[38;5;241m=\u001b[39m \u001b[38;5;28mset\u001b[39m(integer_number)\n\u001b[0;32m      5\u001b[0m \u001b[38;5;28mprint\u001b[39m(integer_set)\n",
      "\u001b[1;31mTypeError\u001b[0m: 'int' object is not iterable"
     ]
    }
   ],
   "source": [
    "# Converting an integer to a set\n",
    "integer_number = 12345\n",
    "integer_set = set(integer_number)\n",
    "print(integer_set) "
   ]
  },
  {
   "cell_type": "code",
   "execution_count": 25,
   "id": "6d471616-0a97-4a11-846a-cf17ebf8f1b4",
   "metadata": {},
   "outputs": [
    {
     "ename": "TypeError",
     "evalue": "'int' object is not iterable",
     "output_type": "error",
     "traceback": [
      "\u001b[1;31m---------------------------------------------------------------------------\u001b[0m",
      "\u001b[1;31mTypeError\u001b[0m                                 Traceback (most recent call last)",
      "Cell \u001b[1;32mIn[25], line 3\u001b[0m\n\u001b[0;32m      1\u001b[0m \u001b[38;5;66;03m# Converting an integer to a dictionary\u001b[39;00m\n\u001b[0;32m      2\u001b[0m integer_number \u001b[38;5;241m=\u001b[39m \u001b[38;5;241m123\u001b[39m\n\u001b[1;32m----> 3\u001b[0m integer_dict \u001b[38;5;241m=\u001b[39m \u001b[38;5;28mdict\u001b[39m(integer_number)\n\u001b[0;32m      4\u001b[0m \u001b[38;5;28mprint\u001b[39m(integer_dict)\n",
      "\u001b[1;31mTypeError\u001b[0m: 'int' object is not iterable"
     ]
    }
   ],
   "source": [
    "# Converting an integer to a dictionary\n",
    "integer_number = 123\n",
    "integer_dict = dict(integer_number)\n",
    "print(integer_dict) "
   ]
  },
  {
   "cell_type": "markdown",
   "id": "39a72235-123a-4617-aa5b-8db6bf7c3ad5",
   "metadata": {},
   "source": [
    "### float Conversions"
   ]
  },
  {
   "cell_type": "code",
   "execution_count": 26,
   "id": "d255094b-bf11-4240-bf2c-8a1804072a3d",
   "metadata": {},
   "outputs": [
    {
     "name": "stdout",
     "output_type": "stream",
     "text": [
      "Integer: 3\n",
      "Float: 3.14\n",
      "Complex: (3.14+0j)\n",
      "Boolean: True\n",
      "String: 3.14\n"
     ]
    },
    {
     "ename": "TypeError",
     "evalue": "'float' object is not iterable",
     "output_type": "error",
     "traceback": [
      "\u001b[1;31m---------------------------------------------------------------------------\u001b[0m",
      "\u001b[1;31mTypeError\u001b[0m                                 Traceback (most recent call last)",
      "Cell \u001b[1;32mIn[26], line 25\u001b[0m\n\u001b[0;32m     22\u001b[0m \u001b[38;5;28mprint\u001b[39m(\u001b[38;5;124m\"\u001b[39m\u001b[38;5;124mString:\u001b[39m\u001b[38;5;124m\"\u001b[39m, str_value)\n\u001b[0;32m     24\u001b[0m \u001b[38;5;66;03m# Converting to list\u001b[39;00m\n\u001b[1;32m---> 25\u001b[0m list_value \u001b[38;5;241m=\u001b[39m \u001b[38;5;28mlist\u001b[39m(float_number)\n\u001b[0;32m     26\u001b[0m \u001b[38;5;28mprint\u001b[39m(\u001b[38;5;124m\"\u001b[39m\u001b[38;5;124mList:\u001b[39m\u001b[38;5;124m\"\u001b[39m, list_value)\n\u001b[0;32m     28\u001b[0m \u001b[38;5;66;03m# Converting to tuple\u001b[39;00m\n",
      "\u001b[1;31mTypeError\u001b[0m: 'float' object is not iterable"
     ]
    }
   ],
   "source": [
    "# Float value\n",
    "float_number = 3.14\n",
    "\n",
    "# Converting to int\n",
    "int_number = int(float_number)\n",
    "print(\"Integer:\", int_number)\n",
    "\n",
    "# Converting to float (no conversion needed)\n",
    "float_number = float(float_number)\n",
    "print(\"Float:\", float_number)\n",
    "\n",
    "# Converting to complex\n",
    "complex_number = complex(float_number)\n",
    "print(\"Complex:\", complex_number)\n",
    "\n",
    "# Converting to bool\n",
    "bool_value = bool(float_number)\n",
    "print(\"Boolean:\", bool_value)\n",
    "\n",
    "# Converting to str\n",
    "str_value = str(float_number)\n",
    "print(\"String:\", str_value)\n",
    "\n",
    "# Converting to list\n",
    "list_value = list(float_number)\n",
    "print(\"List:\", list_value)"
   ]
  },
  {
   "cell_type": "code",
   "execution_count": 27,
   "id": "33cec75b-10ba-4a0c-802c-4d022b372bba",
   "metadata": {},
   "outputs": [
    {
     "ename": "TypeError",
     "evalue": "'float' object is not iterable",
     "output_type": "error",
     "traceback": [
      "\u001b[1;31m---------------------------------------------------------------------------\u001b[0m",
      "\u001b[1;31mTypeError\u001b[0m                                 Traceback (most recent call last)",
      "Cell \u001b[1;32mIn[27], line 3\u001b[0m\n\u001b[0;32m      1\u001b[0m \u001b[38;5;66;03m# Converting to tuple\u001b[39;00m\n\u001b[0;32m      2\u001b[0m float_number \u001b[38;5;241m=\u001b[39m \u001b[38;5;241m3.14\u001b[39m\n\u001b[1;32m----> 3\u001b[0m tuple_value \u001b[38;5;241m=\u001b[39m \u001b[38;5;28mtuple\u001b[39m(float_number)\n\u001b[0;32m      4\u001b[0m \u001b[38;5;28mprint\u001b[39m(\u001b[38;5;124m\"\u001b[39m\u001b[38;5;124mTuple:\u001b[39m\u001b[38;5;124m\"\u001b[39m, tuple_value)\n",
      "\u001b[1;31mTypeError\u001b[0m: 'float' object is not iterable"
     ]
    }
   ],
   "source": [
    "# Converting to tuple\n",
    "float_number = 3.14\n",
    "tuple_value = tuple(float_number)\n",
    "print(\"Tuple:\", tuple_value)"
   ]
  },
  {
   "cell_type": "code",
   "execution_count": 28,
   "id": "e7bccdb7-18b0-447d-a028-8daafedb63fd",
   "metadata": {},
   "outputs": [
    {
     "ename": "TypeError",
     "evalue": "'float' object is not iterable",
     "output_type": "error",
     "traceback": [
      "\u001b[1;31m---------------------------------------------------------------------------\u001b[0m",
      "\u001b[1;31mTypeError\u001b[0m                                 Traceback (most recent call last)",
      "Cell \u001b[1;32mIn[28], line 3\u001b[0m\n\u001b[0;32m      1\u001b[0m \u001b[38;5;66;03m# Converting to set\u001b[39;00m\n\u001b[0;32m      2\u001b[0m float_number \u001b[38;5;241m=\u001b[39m \u001b[38;5;241m3.14\u001b[39m\n\u001b[1;32m----> 3\u001b[0m set_value \u001b[38;5;241m=\u001b[39m \u001b[38;5;28mset\u001b[39m(float_number)\n\u001b[0;32m      4\u001b[0m \u001b[38;5;28mprint\u001b[39m(\u001b[38;5;124m\"\u001b[39m\u001b[38;5;124mSet:\u001b[39m\u001b[38;5;124m\"\u001b[39m, set_value)\n",
      "\u001b[1;31mTypeError\u001b[0m: 'float' object is not iterable"
     ]
    }
   ],
   "source": [
    "# Converting to set\n",
    "float_number = 3.14\n",
    "set_value = set(float_number)\n",
    "print(\"Set:\", set_value)"
   ]
  },
  {
   "cell_type": "code",
   "execution_count": 29,
   "id": "c0450c3d-2870-45ee-b2ce-2a7ad186b5b5",
   "metadata": {},
   "outputs": [
    {
     "ename": "TypeError",
     "evalue": "'float' object is not iterable",
     "output_type": "error",
     "traceback": [
      "\u001b[1;31m---------------------------------------------------------------------------\u001b[0m",
      "\u001b[1;31mTypeError\u001b[0m                                 Traceback (most recent call last)",
      "Cell \u001b[1;32mIn[29], line 3\u001b[0m\n\u001b[0;32m      1\u001b[0m \u001b[38;5;66;03m# Converting to dictionary\u001b[39;00m\n\u001b[0;32m      2\u001b[0m float_number \u001b[38;5;241m=\u001b[39m \u001b[38;5;241m3.14\u001b[39m\n\u001b[1;32m----> 3\u001b[0m dict_value \u001b[38;5;241m=\u001b[39m \u001b[38;5;28mdict\u001b[39m(float_number)\n\u001b[0;32m      4\u001b[0m \u001b[38;5;28mprint\u001b[39m(\u001b[38;5;124m\"\u001b[39m\u001b[38;5;124mDictionary:\u001b[39m\u001b[38;5;124m\"\u001b[39m, dict_value)\n",
      "\u001b[1;31mTypeError\u001b[0m: 'float' object is not iterable"
     ]
    }
   ],
   "source": [
    "# Converting to dictionary\n",
    "float_number = 3.14\n",
    "dict_value = dict(float_number)\n",
    "print(\"Dictionary:\", dict_value)"
   ]
  },
  {
   "cell_type": "markdown",
   "id": "cbfbabf1-7128-4dc1-b029-743616248575",
   "metadata": {},
   "source": [
    "### Boolean values conversions"
   ]
  },
  {
   "cell_type": "code",
   "execution_count": 37,
   "id": "120a9582-8da6-4564-ab38-6d35f9af549f",
   "metadata": {},
   "outputs": [
    {
     "name": "stdout",
     "output_type": "stream",
     "text": [
      "Integer: 0\n",
      "Float: 0.0\n",
      "Complex: 0j\n",
      "Boolean: False\n",
      "String: False\n"
     ]
    },
    {
     "ename": "TypeError",
     "evalue": "'bool' object is not iterable",
     "output_type": "error",
     "traceback": [
      "\u001b[1;31m---------------------------------------------------------------------------\u001b[0m",
      "\u001b[1;31mTypeError\u001b[0m                                 Traceback (most recent call last)",
      "Cell \u001b[1;32mIn[37], line 25\u001b[0m\n\u001b[0;32m     22\u001b[0m \u001b[38;5;28mprint\u001b[39m(\u001b[38;5;124m\"\u001b[39m\u001b[38;5;124mString:\u001b[39m\u001b[38;5;124m\"\u001b[39m, str_value)\n\u001b[0;32m     24\u001b[0m \u001b[38;5;66;03m# Converting to list\u001b[39;00m\n\u001b[1;32m---> 25\u001b[0m list_value \u001b[38;5;241m=\u001b[39m \u001b[38;5;28mlist\u001b[39m(bool_value)\n\u001b[0;32m     26\u001b[0m \u001b[38;5;28mprint\u001b[39m(\u001b[38;5;124m\"\u001b[39m\u001b[38;5;124mList:\u001b[39m\u001b[38;5;124m\"\u001b[39m, list_value)\n",
      "\u001b[1;31mTypeError\u001b[0m: 'bool' object is not iterable"
     ]
    }
   ],
   "source": [
    "# Boolean value\n",
    "bool_value = False\n",
    "# bool_value = True\n",
    "\n",
    "# Converting to int\n",
    "int_number = int(bool_value)\n",
    "print(\"Integer:\", int_number)\n",
    "\n",
    "# Converting to float\n",
    "float_number = float(bool_value)\n",
    "print(\"Float:\", float_number)\n",
    "\n",
    "# Converting to complex\n",
    "complex_number = complex(bool_value)\n",
    "print(\"Complex:\", complex_number)\n",
    "\n",
    "# Converting to bool (no conversion needed)\n",
    "bool_value = bool(bool_value)\n",
    "print(\"Boolean:\", bool_value)\n",
    "\n",
    "# Converting to str\n",
    "str_value = str(bool_value)\n",
    "print(\"String:\", str_value)\n",
    "\n",
    "# Converting to list\n",
    "list_value = list(bool_value)\n",
    "print(\"List:\", list_value)\n"
   ]
  },
  {
   "cell_type": "code",
   "execution_count": 32,
   "id": "17ac3da7-2acb-46a0-baa6-662ce8543bac",
   "metadata": {},
   "outputs": [
    {
     "ename": "TypeError",
     "evalue": "'bool' object is not iterable",
     "output_type": "error",
     "traceback": [
      "\u001b[1;31m---------------------------------------------------------------------------\u001b[0m",
      "\u001b[1;31mTypeError\u001b[0m                                 Traceback (most recent call last)",
      "Cell \u001b[1;32mIn[32], line 2\u001b[0m\n\u001b[0;32m      1\u001b[0m \u001b[38;5;66;03m# Converting to tuple\u001b[39;00m\n\u001b[1;32m----> 2\u001b[0m tuple_value \u001b[38;5;241m=\u001b[39m \u001b[38;5;28mtuple\u001b[39m(bool_value)\n\u001b[0;32m      3\u001b[0m \u001b[38;5;28mprint\u001b[39m(\u001b[38;5;124m\"\u001b[39m\u001b[38;5;124mTuple:\u001b[39m\u001b[38;5;124m\"\u001b[39m, tuple_value)\n\u001b[0;32m      5\u001b[0m \u001b[38;5;66;03m# Converting to set\u001b[39;00m\n",
      "\u001b[1;31mTypeError\u001b[0m: 'bool' object is not iterable"
     ]
    }
   ],
   "source": [
    "# Converting to tuple\n",
    "tuple_value = tuple(bool_value)\n",
    "print(\"Tuple:\", tuple_value)"
   ]
  },
  {
   "cell_type": "code",
   "execution_count": 34,
   "id": "db5ba316-a87c-46d6-a8a1-c1e24791ef65",
   "metadata": {},
   "outputs": [
    {
     "ename": "TypeError",
     "evalue": "'bool' object is not iterable",
     "output_type": "error",
     "traceback": [
      "\u001b[1;31m---------------------------------------------------------------------------\u001b[0m",
      "\u001b[1;31mTypeError\u001b[0m                                 Traceback (most recent call last)",
      "Cell \u001b[1;32mIn[34], line 2\u001b[0m\n\u001b[0;32m      1\u001b[0m \u001b[38;5;66;03m# Converting to set\u001b[39;00m\n\u001b[1;32m----> 2\u001b[0m set_value \u001b[38;5;241m=\u001b[39m \u001b[38;5;28mset\u001b[39m(bool_value)\n\u001b[0;32m      3\u001b[0m \u001b[38;5;28mprint\u001b[39m(\u001b[38;5;124m\"\u001b[39m\u001b[38;5;124mSet:\u001b[39m\u001b[38;5;124m\"\u001b[39m, set_value)\n",
      "\u001b[1;31mTypeError\u001b[0m: 'bool' object is not iterable"
     ]
    }
   ],
   "source": [
    "# Converting to set\n",
    "set_value = set(bool_value)\n",
    "print(\"Set:\", set_value)"
   ]
  },
  {
   "cell_type": "code",
   "execution_count": 35,
   "id": "ecd17038-6274-4866-8ec5-939311bd6b1c",
   "metadata": {},
   "outputs": [
    {
     "ename": "TypeError",
     "evalue": "'bool' object is not iterable",
     "output_type": "error",
     "traceback": [
      "\u001b[1;31m---------------------------------------------------------------------------\u001b[0m",
      "\u001b[1;31mTypeError\u001b[0m                                 Traceback (most recent call last)",
      "Cell \u001b[1;32mIn[35], line 2\u001b[0m\n\u001b[0;32m      1\u001b[0m \u001b[38;5;66;03m# Converting to dictionary\u001b[39;00m\n\u001b[1;32m----> 2\u001b[0m dict_value \u001b[38;5;241m=\u001b[39m \u001b[38;5;28mdict\u001b[39m( bool_value)\n\u001b[0;32m      3\u001b[0m \u001b[38;5;28mprint\u001b[39m(\u001b[38;5;124m\"\u001b[39m\u001b[38;5;124mDictionary:\u001b[39m\u001b[38;5;124m\"\u001b[39m, dict_value)\n",
      "\u001b[1;31mTypeError\u001b[0m: 'bool' object is not iterable"
     ]
    }
   ],
   "source": [
    "# Converting to dictionary\n",
    "dict_value = dict( bool_value)\n",
    "print(\"Dictionary:\", dict_value)"
   ]
  },
  {
   "cell_type": "markdown",
   "id": "329076d1-da82-4d54-8927-a4ed9ebb4efe",
   "metadata": {},
   "source": [
    "### complex values conversions"
   ]
  },
  {
   "cell_type": "code",
   "execution_count": 39,
   "id": "86342f1b-d632-46cb-bfc9-c04487c6e5d1",
   "metadata": {},
   "outputs": [
    {
     "ename": "TypeError",
     "evalue": "int() argument must be a string, a bytes-like object or a real number, not 'complex'",
     "output_type": "error",
     "traceback": [
      "\u001b[1;31m---------------------------------------------------------------------------\u001b[0m",
      "\u001b[1;31mTypeError\u001b[0m                                 Traceback (most recent call last)",
      "Cell \u001b[1;32mIn[39], line 5\u001b[0m\n\u001b[0;32m      2\u001b[0m complex_number \u001b[38;5;241m=\u001b[39m \u001b[38;5;241m3\u001b[39m \u001b[38;5;241m+\u001b[39m \u001b[38;5;241m4\u001b[39mj\n\u001b[0;32m      4\u001b[0m \u001b[38;5;66;03m# Converting to int (Not possible)\u001b[39;00m\n\u001b[1;32m----> 5\u001b[0m int_number \u001b[38;5;241m=\u001b[39m \u001b[38;5;28mint\u001b[39m(complex_number)\n\u001b[0;32m      6\u001b[0m \u001b[38;5;28mprint\u001b[39m(\u001b[38;5;124m\"\u001b[39m\u001b[38;5;124mInteger:\u001b[39m\u001b[38;5;124m\"\u001b[39m, int_number)\n",
      "\u001b[1;31mTypeError\u001b[0m: int() argument must be a string, a bytes-like object or a real number, not 'complex'"
     ]
    }
   ],
   "source": [
    "# Complex value\n",
    "complex_number = 3 + 4j\n",
    "\n",
    "# Converting to int (Not possible)\n",
    "int_number = int(complex_number)\n",
    "print(\"Integer:\", int_number)"
   ]
  },
  {
   "cell_type": "code",
   "execution_count": 40,
   "id": "8c8b0612-9ab7-4591-b921-9e2e5bc1e51b",
   "metadata": {},
   "outputs": [
    {
     "ename": "TypeError",
     "evalue": "float() argument must be a string or a real number, not 'complex'",
     "output_type": "error",
     "traceback": [
      "\u001b[1;31m---------------------------------------------------------------------------\u001b[0m",
      "\u001b[1;31mTypeError\u001b[0m                                 Traceback (most recent call last)",
      "Cell \u001b[1;32mIn[40], line 2\u001b[0m\n\u001b[0;32m      1\u001b[0m \u001b[38;5;66;03m# Converting to float (Not possible)\u001b[39;00m\n\u001b[1;32m----> 2\u001b[0m float_number \u001b[38;5;241m=\u001b[39m \u001b[38;5;28mfloat\u001b[39m(complex_number)\n\u001b[0;32m      3\u001b[0m \u001b[38;5;28mprint\u001b[39m(\u001b[38;5;124m\"\u001b[39m\u001b[38;5;124mFloat:\u001b[39m\u001b[38;5;124m\"\u001b[39m, float_number)\n",
      "\u001b[1;31mTypeError\u001b[0m: float() argument must be a string or a real number, not 'complex'"
     ]
    }
   ],
   "source": [
    "# Converting to float\n",
    "float_number = float(complex_number)\n",
    "print(\"Float:\", float_number)"
   ]
  },
  {
   "cell_type": "code",
   "execution_count": 43,
   "id": "20485652-1b0f-4c82-abbc-f91bc1553a55",
   "metadata": {},
   "outputs": [
    {
     "name": "stdout",
     "output_type": "stream",
     "text": [
      "Complex: (3+4j)\n",
      "Boolean: True\n",
      "String: (3+4j)\n"
     ]
    },
    {
     "ename": "TypeError",
     "evalue": "'complex' object is not iterable",
     "output_type": "error",
     "traceback": [
      "\u001b[1;31m---------------------------------------------------------------------------\u001b[0m",
      "\u001b[1;31mTypeError\u001b[0m                                 Traceback (most recent call last)",
      "Cell \u001b[1;32mIn[43], line 14\u001b[0m\n\u001b[0;32m     11\u001b[0m \u001b[38;5;28mprint\u001b[39m(\u001b[38;5;124m\"\u001b[39m\u001b[38;5;124mString:\u001b[39m\u001b[38;5;124m\"\u001b[39m, str_value)\n\u001b[0;32m     13\u001b[0m \u001b[38;5;66;03m# Converting to list (Not possible)\u001b[39;00m\n\u001b[1;32m---> 14\u001b[0m list_value \u001b[38;5;241m=\u001b[39m \u001b[38;5;28mlist\u001b[39m(complex_number)\n\u001b[0;32m     15\u001b[0m \u001b[38;5;28mprint\u001b[39m(\u001b[38;5;124m\"\u001b[39m\u001b[38;5;124mList:\u001b[39m\u001b[38;5;124m\"\u001b[39m, list_value)\n",
      "\u001b[1;31mTypeError\u001b[0m: 'complex' object is not iterable"
     ]
    }
   ],
   "source": [
    "# Converting to complex \n",
    "complex_number = complex(complex_number)\n",
    "print(\"Complex:\", complex_number)\n",
    "\n",
    "# Converting to bool \n",
    "bool_value = bool(complex_number)\n",
    "print(\"Boolean:\", bool_value)\n",
    "\n",
    "# Converting to str\n",
    "str_value = str(complex_number)\n",
    "print(\"String:\", str_value)\n",
    "\n",
    "# Converting to list\n",
    "list_value = list(complex_number)\n",
    "print(\"List:\", list_value)"
   ]
  },
  {
   "cell_type": "code",
   "execution_count": 44,
   "id": "44768f22-d481-4e6f-915d-53f5ad0f8c7a",
   "metadata": {},
   "outputs": [
    {
     "ename": "TypeError",
     "evalue": "'complex' object is not iterable",
     "output_type": "error",
     "traceback": [
      "\u001b[1;31m---------------------------------------------------------------------------\u001b[0m",
      "\u001b[1;31mTypeError\u001b[0m                                 Traceback (most recent call last)",
      "Cell \u001b[1;32mIn[44], line 2\u001b[0m\n\u001b[0;32m      1\u001b[0m \u001b[38;5;66;03m# Converting to tuple (Not possible)\u001b[39;00m\n\u001b[1;32m----> 2\u001b[0m tuple_value \u001b[38;5;241m=\u001b[39m \u001b[38;5;28mtuple\u001b[39m(complex_number)\n\u001b[0;32m      3\u001b[0m \u001b[38;5;28mprint\u001b[39m(\u001b[38;5;124m\"\u001b[39m\u001b[38;5;124mTuple:\u001b[39m\u001b[38;5;124m\"\u001b[39m, tuple_value)\n\u001b[0;32m      5\u001b[0m \u001b[38;5;66;03m# Converting to set (Not possible)\u001b[39;00m\n",
      "\u001b[1;31mTypeError\u001b[0m: 'complex' object is not iterable"
     ]
    }
   ],
   "source": [
    "# Converting to tuple (Not possible)\n",
    "tuple_value = tuple(complex_number)\n",
    "print(\"Tuple:\", tuple_value)"
   ]
  },
  {
   "cell_type": "code",
   "execution_count": 45,
   "id": "fd0cf668-a46f-4078-8d04-1359864d945a",
   "metadata": {},
   "outputs": [
    {
     "ename": "TypeError",
     "evalue": "'complex' object is not iterable",
     "output_type": "error",
     "traceback": [
      "\u001b[1;31m---------------------------------------------------------------------------\u001b[0m",
      "\u001b[1;31mTypeError\u001b[0m                                 Traceback (most recent call last)",
      "Cell \u001b[1;32mIn[45], line 2\u001b[0m\n\u001b[0;32m      1\u001b[0m \u001b[38;5;66;03m# Converting to set (Not possible)\u001b[39;00m\n\u001b[1;32m----> 2\u001b[0m set_value \u001b[38;5;241m=\u001b[39m \u001b[38;5;28mset\u001b[39m(complex_number)\n\u001b[0;32m      3\u001b[0m \u001b[38;5;28mprint\u001b[39m(\u001b[38;5;124m\"\u001b[39m\u001b[38;5;124mSet:\u001b[39m\u001b[38;5;124m\"\u001b[39m, set_value)\n",
      "\u001b[1;31mTypeError\u001b[0m: 'complex' object is not iterable"
     ]
    }
   ],
   "source": [
    "# Converting to set\n",
    "set_value = set(complex_number)\n",
    "print(\"Set:\", set_value)"
   ]
  },
  {
   "cell_type": "code",
   "execution_count": null,
   "id": "b2886d7b-f979-4265-8cdd-d44054fb31f2",
   "metadata": {},
   "outputs": [
    {
     "ename": "TypeError",
     "evalue": "'complex' object is not iterable",
     "output_type": "error",
     "traceback": [
      "\u001b[1;31m---------------------------------------------------------------------------\u001b[0m",
      "\u001b[1;31mTypeError\u001b[0m                                 Traceback (most recent call last)",
      "Cell \u001b[1;32mIn[47], line 2\u001b[0m\n\u001b[0;32m      1\u001b[0m \u001b[38;5;66;03m# Converting to dictionary \u001b[39;00m\n\u001b[1;32m----> 2\u001b[0m dict_value \u001b[38;5;241m=\u001b[39m \u001b[38;5;28mdict\u001b[39m(complex_number)\n\u001b[0;32m      3\u001b[0m \u001b[38;5;28mprint\u001b[39m(\u001b[38;5;124m\"\u001b[39m\u001b[38;5;124mDictionary:\u001b[39m\u001b[38;5;124m\"\u001b[39m, dict_value)\n",
      "\u001b[1;31mTypeError\u001b[0m: 'complex' object is not iterable"
     ]
    }
   ],
   "source": [
    "# Converting to dictionary \n",
    "dict_value = dict(complex_number)\n",
    "print(\"Dictionary:\", dict_value)"
   ]
  },
  {
   "cell_type": "markdown",
   "id": "b73dbcca",
   "metadata": {},
   "source": [
    "### String Conversions"
   ]
  },
  {
   "cell_type": "code",
   "execution_count": 15,
   "id": "23c16c74",
   "metadata": {},
   "outputs": [
    {
     "name": "stdout",
     "output_type": "stream",
     "text": [
      "Integer: 123\n"
     ]
    }
   ],
   "source": [
    "# String value\n",
    "str_value = \"123\"\n",
    "# str_value = \"Madhu\"\n",
    "\n",
    "# Converting to int\n",
    "int_number = int(str_value)\n",
    "print(\"Integer:\", int_number)"
   ]
  },
  {
   "cell_type": "code",
   "execution_count": 16,
   "id": "1fbd1874",
   "metadata": {},
   "outputs": [
    {
     "name": "stdout",
     "output_type": "stream",
     "text": [
      "Float: 123.0\n"
     ]
    }
   ],
   "source": [
    "# Converting to float\n",
    "float_number = float(str_value)\n",
    "print(\"Float:\", float_number)"
   ]
  },
  {
   "cell_type": "code",
   "execution_count": 18,
   "id": "62e66856",
   "metadata": {},
   "outputs": [
    {
     "name": "stdout",
     "output_type": "stream",
     "text": [
      "Complex: (123+0j)\n"
     ]
    }
   ],
   "source": [
    "# Converting to complex\n",
    "complex_number = complex(str_value)\n",
    "print(\"Complex:\", complex_number)"
   ]
  },
  {
   "cell_type": "code",
   "execution_count": 19,
   "id": "0ee91c1d",
   "metadata": {},
   "outputs": [
    {
     "name": "stdout",
     "output_type": "stream",
     "text": [
      "Boolean: True\n",
      "String: 123\n",
      "List: ['1', '2', '3']\n",
      "Tuple: ('1', '2', '3')\n",
      "Set: {'2', '3', '1'}\n"
     ]
    },
    {
     "ename": "ValueError",
     "evalue": "dictionary update sequence element #0 has length 1; 2 is required",
     "output_type": "error",
     "traceback": [
      "\u001b[1;31m---------------------------------------------------------------------------\u001b[0m",
      "\u001b[1;31mValueError\u001b[0m                                Traceback (most recent call last)",
      "Cell \u001b[1;32mIn[19], line 22\u001b[0m\n\u001b[0;32m     19\u001b[0m \u001b[38;5;28mprint\u001b[39m(\u001b[38;5;124m\"\u001b[39m\u001b[38;5;124mSet:\u001b[39m\u001b[38;5;124m\"\u001b[39m, set_value)\n\u001b[0;32m     21\u001b[0m \u001b[38;5;66;03m# Converting to dictionary\u001b[39;00m\n\u001b[1;32m---> 22\u001b[0m dict_value \u001b[38;5;241m=\u001b[39m \u001b[38;5;28mdict\u001b[39m(str_value)\n\u001b[0;32m     23\u001b[0m \u001b[38;5;28mprint\u001b[39m(\u001b[38;5;124m\"\u001b[39m\u001b[38;5;124mDictionary:\u001b[39m\u001b[38;5;124m\"\u001b[39m, dict_value)\n",
      "\u001b[1;31mValueError\u001b[0m: dictionary update sequence element #0 has length 1; 2 is required"
     ]
    }
   ],
   "source": [
    "# Converting to bool\n",
    "bool_value = bool(str_value)\n",
    "print(\"Boolean:\", bool_value)\n",
    "\n",
    "# Converting to str (no conversion needed)\n",
    "str_value = str(str_value)\n",
    "print(\"String:\", str_value)\n",
    "\n",
    "# Converting to list\n",
    "list_value = list(str_value)\n",
    "print(\"List:\", list_value)\n",
    "\n",
    "# Converting to tuple\n",
    "tuple_value = tuple(str_value)\n",
    "print(\"Tuple:\", tuple_value)\n",
    "\n",
    "# Converting to set\n",
    "set_value = set(str_value)\n",
    "print(\"Set:\", set_value)\n",
    "\n",
    "# Converting to dictionary\n",
    "dict_value = dict(str_value)\n",
    "print(\"Dictionary:\", dict_value)"
   ]
  }
 ],
 "metadata": {
  "kernelspec": {
   "display_name": "Python 3 (ipykernel)",
   "language": "python",
   "name": "python3"
  },
  "language_info": {
   "codemirror_mode": {
    "name": "ipython",
    "version": 3
   },
   "file_extension": ".py",
   "mimetype": "text/x-python",
   "name": "python",
   "nbconvert_exporter": "python",
   "pygments_lexer": "ipython3",
   "version": "3.11.7"
  }
 },
 "nbformat": 4,
 "nbformat_minor": 5
}
