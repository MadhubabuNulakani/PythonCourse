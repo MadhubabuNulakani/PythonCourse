{
 "cells": [
  {
   "cell_type": "markdown",
   "id": "189b681c-e22b-4b53-a1e7-107559fad4de",
   "metadata": {},
   "source": [
    "# Operators"
   ]
  },
  {
   "cell_type": "markdown",
   "id": "1a0bed0e-229b-4d49-8590-03f0285b6469",
   "metadata": {},
   "source": [
    "### 1. Arthmetic"
   ]
  },
  {
   "cell_type": "code",
   "execution_count": 5,
   "id": "5f87b4a1-b691-4e76-a740-4b3e78e264bd",
   "metadata": {},
   "outputs": [
    {
     "name": "stdout",
     "output_type": "stream",
     "text": [
      "300\n",
      "-100\n",
      "20000\n"
     ]
    }
   ],
   "source": [
    "a=100\n",
    "b=200\n",
    "print(a+b)\n",
    "print(a-b)\n",
    "print(a*b)"
   ]
  },
  {
   "cell_type": "code",
   "execution_count": 3,
   "id": "fe99317d-12dc-4585-bb84-2dcfbe3f32ef",
   "metadata": {},
   "outputs": [
    {
     "name": "stdout",
     "output_type": "stream",
     "text": [
      "6.5\n"
     ]
    }
   ],
   "source": [
    "a=26\n",
    "b=4\n",
    "print(a/b)"
   ]
  },
  {
   "cell_type": "code",
   "execution_count": 7,
   "id": "58a08eb9-8c90-41e7-962b-3c0f656f5252",
   "metadata": {},
   "outputs": [
    {
     "name": "stdout",
     "output_type": "stream",
     "text": [
      "6\n"
     ]
    }
   ],
   "source": [
    "a=26\n",
    "b=4\n",
    "print(a//b)"
   ]
  },
  {
   "cell_type": "code",
   "execution_count": 10,
   "id": "a145c2da-b9d3-4d2f-b52e-4993f19597ab",
   "metadata": {},
   "outputs": [
    {
     "name": "stdout",
     "output_type": "stream",
     "text": [
      "1048576\n"
     ]
    }
   ],
   "source": [
    "a=2\n",
    "b=20\n",
    "print(a**b) # square operator"
   ]
  },
  {
   "cell_type": "markdown",
   "id": "ead61ced-7b37-47f0-bb3c-a57ddd017869",
   "metadata": {},
   "source": [
    "### 2. Comparison "
   ]
  },
  {
   "cell_type": "code",
   "execution_count": 16,
   "id": "dc5ca063-f44a-43ad-bb8f-6c061a68b445",
   "metadata": {},
   "outputs": [
    {
     "name": "stdout",
     "output_type": "stream",
     "text": [
      "is he eligible for vote: True\n"
     ]
    }
   ],
   "source": [
    "age=26\n",
    "vote_cutoff=18\n",
    "print(f\"is he eligible for vote: {age>vote_cutoff}\")"
   ]
  },
  {
   "cell_type": "markdown",
   "id": "1e54e69f-bd30-4842-b796-86e58fcdfe9c",
   "metadata": {},
   "source": [
    "### Assignment operator     =,+=, -+, *=, **=, /=, //=, %="
   ]
  },
  {
   "cell_type": "code",
   "execution_count": 15,
   "id": "aad04857-9602-45c6-b2bf-58542319bdba",
   "metadata": {},
   "outputs": [
    {
     "name": "stdout",
     "output_type": "stream",
     "text": [
      "10.0\n"
     ]
    }
   ],
   "source": [
    "value=100\n",
    "value /=10\n",
    "print(f\"{value}\")"
   ]
  },
  {
   "cell_type": "code",
   "execution_count": 16,
   "id": "5c6b4687-bd15-41f9-a85a-13f2c408e887",
   "metadata": {},
   "outputs": [
    {
     "name": "stdout",
     "output_type": "stream",
     "text": [
      "10\n"
     ]
    }
   ],
   "source": [
    "value=100\n",
    "value //=10\n",
    "print(f\"{value}\")"
   ]
  },
  {
   "cell_type": "code",
   "execution_count": 22,
   "id": "86babe75-f26c-45a9-94cd-62ecac368d6f",
   "metadata": {},
   "outputs": [
    {
     "name": "stdout",
     "output_type": "stream",
     "text": [
      "10.0\n"
     ]
    }
   ],
   "source": [
    "a=20.0\n",
    "a //=2\n",
    "print(a)"
   ]
  },
  {
   "cell_type": "code",
   "execution_count": 23,
   "id": "24c749ef-90b5-4dea-bce0-3da14d110cb1",
   "metadata": {},
   "outputs": [
    {
     "name": "stdout",
     "output_type": "stream",
     "text": [
      "0\n"
     ]
    }
   ],
   "source": [
    "age=20\n",
    "age %=2\n",
    "print(age)"
   ]
  },
  {
   "cell_type": "code",
   "execution_count": 13,
   "id": "092fc143-9ecd-47a4-8c03-da7731418d3e",
   "metadata": {},
   "outputs": [
    {
     "name": "stdout",
     "output_type": "stream",
     "text": [
      "20000\n"
     ]
    }
   ],
   "source": [
    "sal=10000\n",
    "sal *=2\n",
    "print(f\"{sal}\")"
   ]
  },
  {
   "cell_type": "code",
   "execution_count": 14,
   "id": "1a5b30da-f004-4b36-aa57-f2d37ee841dc",
   "metadata": {},
   "outputs": [
    {
     "name": "stdout",
     "output_type": "stream",
     "text": [
      "100\n"
     ]
    }
   ],
   "source": [
    "val=10\n",
    "val **=2\n",
    "print(f\"{val}\")"
   ]
  },
  {
   "cell_type": "markdown",
   "id": "dd267909-141b-4039-9bd9-b4e99213695b",
   "metadata": {},
   "source": [
    "### 4. Logical Operators  and or not"
   ]
  },
  {
   "cell_type": "code",
   "execution_count": 24,
   "id": "6ff309fa-acef-44d2-971e-590fa12fdb39",
   "metadata": {},
   "outputs": [
    {
     "name": "stdout",
     "output_type": "stream",
     "text": [
      "False\n"
     ]
    }
   ],
   "source": [
    "age=30\n",
    "minAgeCutOff=20\n",
    "maxAgeCutOff=29\n",
    "\n",
    "print(age>=minAgeCutOff and age<=maxAgeCutOff)"
   ]
  },
  {
   "cell_type": "code",
   "execution_count": 27,
   "id": "56b2a4c4-ad7a-43e6-823f-29a4fc72b49a",
   "metadata": {},
   "outputs": [
    {
     "name": "stdin",
     "output_type": "stream",
     "text": [
      "enter user name \n",
      "enter password \n"
     ]
    },
    {
     "name": "stdout",
     "output_type": "stream",
     "text": [
      " is login success: False \n"
     ]
    }
   ],
   "source": [
    "userName= input(\"enter user name\")\n",
    "password=input(\"enter password\")\n",
    "print(f\" is login success: {userName=='madhu' or password=='Madhu@9912'} \")"
   ]
  },
  {
   "cell_type": "code",
   "execution_count": 29,
   "id": "9f121e98-a7a1-419d-8503-3c0047b519cd",
   "metadata": {},
   "outputs": [
    {
     "name": "stdout",
     "output_type": "stream",
     "text": [
      "True\n",
      "-1\n"
     ]
    }
   ],
   "source": [
    "isLogin=False\n",
    "print(not isLogin)\n",
    "print( ~ isLogin)"
   ]
  },
  {
   "cell_type": "code",
   "execution_count": 12,
   "id": "5fcb1ae6-5c1b-4b50-9760-0c332a2bebfc",
   "metadata": {},
   "outputs": [
    {
     "name": "stdin",
     "output_type": "stream",
     "text": [
      "Enter User name:  madhu\n",
      "Enter password:  rrr\n"
     ]
    },
    {
     "name": "stdout",
     "output_type": "stream",
     "text": [
      "\n",
      "Go to username reset page: True\n",
      "Go to password reset page: False\n",
      "This is an error: False\n",
      "Is login success: False\n"
     ]
    }
   ],
   "source": [
    "user_name = input(\"Enter User name: \") # vj\n",
    "password = input(\"Enter password: \") # rrr\n",
    "\n",
    "print(f\"\\nGo to username reset page: {user_name != 'vj' and password == 'rrr'}\\n\"\n",
    "      f\"Go to password reset page: {user_name == 'vj' and password != 'rrr'}\\n\"\n",
    "      f\"This is an error: {user_name != 'vj' and password != 'rrr'}\\n\"\n",
    "      f\"Is login success: {user_name == 'vj' and password == 'rrr'}\")"
   ]
  }
 ],
 "metadata": {
  "kernelspec": {
   "display_name": "Python 3 (ipykernel)",
   "language": "python",
   "name": "python3"
  },
  "language_info": {
   "codemirror_mode": {
    "name": "ipython",
    "version": 3
   },
   "file_extension": ".py",
   "mimetype": "text/x-python",
   "name": "python",
   "nbconvert_exporter": "python",
   "pygments_lexer": "ipython3",
   "version": "3.11.7"
  }
 },
 "nbformat": 4,
 "nbformat_minor": 5
}
