{
 "cells": [
  {
   "cell_type": "markdown",
   "id": "3a3bfac2-f6b5-42f1-99d2-bdf7f8689ae0",
   "metadata": {},
   "source": [
    "### Conditional Statements"
   ]
  },
  {
   "cell_type": "markdown",
   "id": "05356cc5-c926-4583-aa8c-7b4534441b66",
   "metadata": {},
   "source": [
    "#### If Condition"
   ]
  },
  {
   "cell_type": "code",
   "execution_count": 8,
   "id": "ef9e0dc3-5f90-44e0-af02-be4e5919adc0",
   "metadata": {},
   "outputs": [
    {
     "name": "stdin",
     "output_type": "stream",
     "text": [
      "enter the age of the candidate: \n",
      " 19\n"
     ]
    },
    {
     "name": "stdout",
     "output_type": "stream",
     "text": [
      "the candidate is eligible for voting...\n"
     ]
    }
   ],
   "source": [
    "age=int(input(\"enter the age of the candidate: \\n\"))\n",
    "if age >= 18:\n",
    "    print(f\"the candidate is eligible for voting...\")   "
   ]
  },
  {
   "cell_type": "markdown",
   "id": "352eaef9-422f-452b-8ba0-8e591767f17c",
   "metadata": {},
   "source": [
    "#### If Else Condition"
   ]
  },
  {
   "cell_type": "code",
   "execution_count": 9,
   "id": "05704d76-1229-4c1f-9dbc-72bb3deab79d",
   "metadata": {},
   "outputs": [
    {
     "name": "stdin",
     "output_type": "stream",
     "text": [
      "enter the age of the candidate: \n",
      " 17\n"
     ]
    },
    {
     "name": "stdout",
     "output_type": "stream",
     "text": [
      "the candidate is not eligible for voting..\n"
     ]
    }
   ],
   "source": [
    "age=int(input(\"enter the age of the candidate: \\n\"))\n",
    "if age >= 18:\n",
    "    print(f\"the candidate is eligible for voting...\")\n",
    "else:\n",
    "    print(f\"the candidate is not eligible for voting..\")\n",
    "    "
   ]
  },
  {
   "cell_type": "code",
   "execution_count": 11,
   "id": "0ecad2a6-49b9-45ec-a4d0-ab3b3f274a50",
   "metadata": {},
   "outputs": [
    {
     "name": "stdin",
     "output_type": "stream",
     "text": [
      "enter the income of the candidate: \n",
      " 5000000\n"
     ]
    },
    {
     "name": "stdout",
     "output_type": "stream",
     "text": [
      "the candidate is eligible for tax payble...\n"
     ]
    }
   ],
   "source": [
    "income=float(input(\"enter the income of the candidate: \\n\"))\n",
    "tax_income_cutOff=500000.00\n",
    "if income >= tax_income_cutOff:\n",
    "    print(f\"the candidate is eligible for tax payble...\")\n",
    "else:\n",
    "    print(f\"the candidate is not eligible for tax payble..\")\n",
    "    "
   ]
  },
  {
   "cell_type": "markdown",
   "id": "128a7fe7-0eaf-40d6-8957-da3aedfc0ed1",
   "metadata": {},
   "source": [
    "#### elif condition "
   ]
  },
  {
   "cell_type": "code",
   "execution_count": 15,
   "id": "f13d632b-96f7-4732-b065-fb063a7b8730",
   "metadata": {},
   "outputs": [
    {
     "name": "stdin",
     "output_type": "stream",
     "text": [
      "Enter User name:  madhu\n",
      "Enter password:  rrr\n"
     ]
    },
    {
     "name": "stdout",
     "output_type": "stream",
     "text": [
      "Enter user name is wrong!...\n"
     ]
    }
   ],
   "source": [
    "user_name = input(\"Enter User name: \") # vj\n",
    "password = input(\"Enter password: \") # rrr\n",
    "\n",
    "\n",
    "if user_name != 'vj' and password != 'rrr':\n",
    "    print(\"Login failed...\")\n",
    "elif user_name != 'vj':\n",
    "    print(\"Enter user name is wrong!...\")\n",
    "elif password != 'rrr':\n",
    "    print(\"Enter password is wrong!...\")\n",
    "else:\n",
    "    print(\"Login is successeded..\")\n",
    "    "
   ]
  },
  {
   "cell_type": "markdown",
   "id": "847f9219-7d2a-40eb-8589-7ea934e6d62f",
   "metadata": {},
   "source": [
    "### Nested if conditions"
   ]
  },
  {
   "cell_type": "code",
   "execution_count": null,
   "id": "169da83d-4dfc-4f55-b97d-90ad8dcfa4c6",
   "metadata": {},
   "outputs": [],
   "source": []
  },
  {
   "cell_type": "code",
   "execution_count": null,
   "id": "d8220f94-a9e8-44c8-9fe1-2cf1781da26e",
   "metadata": {},
   "outputs": [],
   "source": []
  },
  {
   "cell_type": "code",
   "execution_count": null,
   "id": "23074202-287a-4ec6-b0ae-51b16ec8f0ab",
   "metadata": {},
   "outputs": [],
   "source": []
  }
 ],
 "metadata": {
  "kernelspec": {
   "display_name": "Python 3 (ipykernel)",
   "language": "python",
   "name": "python3"
  },
  "language_info": {
   "codemirror_mode": {
    "name": "ipython",
    "version": 3
   },
   "file_extension": ".py",
   "mimetype": "text/x-python",
   "name": "python",
   "nbconvert_exporter": "python",
   "pygments_lexer": "ipython3",
   "version": "3.11.7"
  }
 },
 "nbformat": 4,
 "nbformat_minor": 5
}
