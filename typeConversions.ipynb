{
 "cells": [
  {
   "cell_type": "markdown",
   "id": "cf779767-75b0-4d11-8c50-a8f90829b834",
   "metadata": {},
   "source": [
    "### Integer Conversion"
   ]
  },
  {
   "cell_type": "code",
   "execution_count": 2,
   "id": "42ecf021-3801-4b0d-bba1-1fe7d2cad4e0",
   "metadata": {},
   "outputs": [
    {
     "name": "stdout",
     "output_type": "stream",
     "text": [
      "5.0\n"
     ]
    }
   ],
   "source": [
    "# interger to float\n",
    "x = 5\n",
    "y = float(x)  # y will be 5.0\n",
    "print(y)"
   ]
  },
  {
   "cell_type": "code",
   "execution_count": 3,
   "id": "10ea9060-e00a-41ca-890d-0cb00bd6a1ea",
   "metadata": {},
   "outputs": [
    {
     "name": "stdout",
     "output_type": "stream",
     "text": [
      "5\n"
     ]
    }
   ],
   "source": [
    "# interger to string\n",
    "x = 5\n",
    "y = str(x)  # y will be '5'\n",
    "print(y)"
   ]
  },
  {
   "cell_type": "code",
   "execution_count": 9,
   "id": "251202ef-d18a-4bb7-a271-06b8c1f0c95a",
   "metadata": {},
   "outputs": [
    {
     "name": "stdout",
     "output_type": "stream",
     "text": [
      "(5+0j)\n"
     ]
    }
   ],
   "source": [
    "# Converting an integer to a complex number\n",
    "integer_number = 5\n",
    "complex_number = complex(integer_number)\n",
    "\n",
    "print(complex_number)  # Output: (5+0j)"
   ]
  },
  {
   "cell_type": "code",
   "execution_count": 18,
   "id": "3ca20411-2b4c-44ca-ac0f-ecfc3c154e15",
   "metadata": {},
   "outputs": [
    {
     "name": "stdout",
     "output_type": "stream",
     "text": [
      "0 --> False\n",
      "1 --> True\n",
      "-1 --> True\n"
     ]
    }
   ],
   "source": [
    "# Converting an integer to a boolean\n",
    "number = 0\n",
    "boolean_value = bool(number)\n",
    "print(f\"{number} --> {boolean_value}\")  \n",
    "\n",
    "number = 1\n",
    "boolean_value = bool(number)\n",
    "print(f\"{number} --> {boolean_value}\")  \n",
    "\n",
    "number = -1\n",
    "boolean_value = bool(number)\n",
    "print(f\"{number} --> {boolean_value}\") \n"
   ]
  },
  {
   "cell_type": "code",
   "execution_count": 19,
   "id": "25d4ef4e-3ac4-49aa-8f9d-6bb85901841b",
   "metadata": {},
   "outputs": [
    {
     "ename": "TypeError",
     "evalue": "'int' object is not iterable",
     "output_type": "error",
     "traceback": [
      "\u001b[1;31m---------------------------------------------------------------------------\u001b[0m",
      "\u001b[1;31mTypeError\u001b[0m                                 Traceback (most recent call last)",
      "Cell \u001b[1;32mIn[19], line 3\u001b[0m\n\u001b[0;32m      1\u001b[0m \u001b[38;5;66;03m# Converting an integer to a list\u001b[39;00m\n\u001b[0;32m      2\u001b[0m number \u001b[38;5;241m=\u001b[39m \u001b[38;5;241m12345\u001b[39m\n\u001b[1;32m----> 3\u001b[0m integer_list \u001b[38;5;241m=\u001b[39m \u001b[38;5;28mlist\u001b[39m(number)\n\u001b[0;32m      5\u001b[0m \u001b[38;5;28mprint\u001b[39m(integer_list)\n",
      "\u001b[1;31mTypeError\u001b[0m: 'int' object is not iterable"
     ]
    }
   ],
   "source": [
    "# Converting an integer to a list\n",
    "number = 12345\n",
    "integer_list = list(number)\n",
    "print(integer_list)  "
   ]
  },
  {
   "cell_type": "code",
   "execution_count": 22,
   "id": "169f6e61-e64f-4dfa-9cb5-76534153ab41",
   "metadata": {},
   "outputs": [
    {
     "ename": "TypeError",
     "evalue": "'int' object is not iterable",
     "output_type": "error",
     "traceback": [
      "\u001b[1;31m---------------------------------------------------------------------------\u001b[0m",
      "\u001b[1;31mTypeError\u001b[0m                                 Traceback (most recent call last)",
      "Cell \u001b[1;32mIn[22], line 3\u001b[0m\n\u001b[0;32m      1\u001b[0m \u001b[38;5;66;03m# Converting an integer to a tuple\u001b[39;00m\n\u001b[0;32m      2\u001b[0m integer_number \u001b[38;5;241m=\u001b[39m \u001b[38;5;241m123\u001b[39m\n\u001b[1;32m----> 3\u001b[0m integer_tuple \u001b[38;5;241m=\u001b[39m \u001b[38;5;28mtuple\u001b[39m(integer_number)\n\u001b[0;32m      5\u001b[0m \u001b[38;5;28mprint\u001b[39m(integer_tuple)\n",
      "\u001b[1;31mTypeError\u001b[0m: 'int' object is not iterable"
     ]
    }
   ],
   "source": [
    "# Converting an integer to a tuple\n",
    "integer_number = 123\n",
    "integer_tuple = tuple(integer_number)\n",
    "print(integer_tuple) "
   ]
  },
  {
   "cell_type": "code",
   "execution_count": 23,
   "id": "704ac71e-cc18-4c64-97dd-10a74917ae8b",
   "metadata": {},
   "outputs": [
    {
     "ename": "TypeError",
     "evalue": "'int' object is not iterable",
     "output_type": "error",
     "traceback": [
      "\u001b[1;31m---------------------------------------------------------------------------\u001b[0m",
      "\u001b[1;31mTypeError\u001b[0m                                 Traceback (most recent call last)",
      "Cell \u001b[1;32mIn[23], line 3\u001b[0m\n\u001b[0;32m      1\u001b[0m \u001b[38;5;66;03m# Converting an integer to a set\u001b[39;00m\n\u001b[0;32m      2\u001b[0m integer_number \u001b[38;5;241m=\u001b[39m \u001b[38;5;241m12345\u001b[39m\n\u001b[1;32m----> 3\u001b[0m integer_set \u001b[38;5;241m=\u001b[39m \u001b[38;5;28mset\u001b[39m(integer_number)\n\u001b[0;32m      5\u001b[0m \u001b[38;5;28mprint\u001b[39m(integer_set)\n",
      "\u001b[1;31mTypeError\u001b[0m: 'int' object is not iterable"
     ]
    }
   ],
   "source": [
    "# Converting an integer to a set\n",
    "integer_number = 12345\n",
    "integer_set = set(integer_number)\n",
    "print(integer_set) "
   ]
  },
  {
   "cell_type": "code",
   "execution_count": 25,
   "id": "6d471616-0a97-4a11-846a-cf17ebf8f1b4",
   "metadata": {},
   "outputs": [
    {
     "ename": "TypeError",
     "evalue": "'int' object is not iterable",
     "output_type": "error",
     "traceback": [
      "\u001b[1;31m---------------------------------------------------------------------------\u001b[0m",
      "\u001b[1;31mTypeError\u001b[0m                                 Traceback (most recent call last)",
      "Cell \u001b[1;32mIn[25], line 3\u001b[0m\n\u001b[0;32m      1\u001b[0m \u001b[38;5;66;03m# Converting an integer to a dictionary\u001b[39;00m\n\u001b[0;32m      2\u001b[0m integer_number \u001b[38;5;241m=\u001b[39m \u001b[38;5;241m123\u001b[39m\n\u001b[1;32m----> 3\u001b[0m integer_dict \u001b[38;5;241m=\u001b[39m \u001b[38;5;28mdict\u001b[39m(integer_number)\n\u001b[0;32m      4\u001b[0m \u001b[38;5;28mprint\u001b[39m(integer_dict)\n",
      "\u001b[1;31mTypeError\u001b[0m: 'int' object is not iterable"
     ]
    }
   ],
   "source": [
    "# Converting an integer to a dictionary\n",
    "integer_number = 123\n",
    "integer_dict = dict(integer_number)\n",
    "print(integer_dict) "
   ]
  },
  {
   "cell_type": "markdown",
   "id": "39a72235-123a-4617-aa5b-8db6bf7c3ad5",
   "metadata": {},
   "source": [
    "### float Conversions"
   ]
  },
  {
   "cell_type": "code",
   "execution_count": 26,
   "id": "d255094b-bf11-4240-bf2c-8a1804072a3d",
   "metadata": {},
   "outputs": [
    {
     "name": "stdout",
     "output_type": "stream",
     "text": [
      "Integer: 3\n",
      "Float: 3.14\n",
      "Complex: (3.14+0j)\n",
      "Boolean: True\n",
      "String: 3.14\n"
     ]
    },
    {
     "ename": "TypeError",
     "evalue": "'float' object is not iterable",
     "output_type": "error",
     "traceback": [
      "\u001b[1;31m---------------------------------------------------------------------------\u001b[0m",
      "\u001b[1;31mTypeError\u001b[0m                                 Traceback (most recent call last)",
      "Cell \u001b[1;32mIn[26], line 25\u001b[0m\n\u001b[0;32m     22\u001b[0m \u001b[38;5;28mprint\u001b[39m(\u001b[38;5;124m\"\u001b[39m\u001b[38;5;124mString:\u001b[39m\u001b[38;5;124m\"\u001b[39m, str_value)\n\u001b[0;32m     24\u001b[0m \u001b[38;5;66;03m# Converting to list\u001b[39;00m\n\u001b[1;32m---> 25\u001b[0m list_value \u001b[38;5;241m=\u001b[39m \u001b[38;5;28mlist\u001b[39m(float_number)\n\u001b[0;32m     26\u001b[0m \u001b[38;5;28mprint\u001b[39m(\u001b[38;5;124m\"\u001b[39m\u001b[38;5;124mList:\u001b[39m\u001b[38;5;124m\"\u001b[39m, list_value)\n\u001b[0;32m     28\u001b[0m \u001b[38;5;66;03m# Converting to tuple\u001b[39;00m\n",
      "\u001b[1;31mTypeError\u001b[0m: 'float' object is not iterable"
     ]
    }
   ],
   "source": [
    "# Float value\n",
    "float_number = 3.14\n",
    "\n",
    "# Converting to int\n",
    "int_number = int(float_number)\n",
    "print(\"Integer:\", int_number)\n",
    "\n",
    "# Converting to float (no conversion needed)\n",
    "float_number = float(float_number)\n",
    "print(\"Float:\", float_number)\n",
    "\n",
    "# Converting to complex\n",
    "complex_number = complex(float_number)\n",
    "print(\"Complex:\", complex_number)\n",
    "\n",
    "# Converting to bool\n",
    "bool_value = bool(float_number)\n",
    "print(\"Boolean:\", bool_value)\n",
    "\n",
    "# Converting to str\n",
    "str_value = str(float_number)\n",
    "print(\"String:\", str_value)\n",
    "\n",
    "# Converting to list\n",
    "list_value = list(float_number)\n",
    "print(\"List:\", list_value)"
   ]
  },
  {
   "cell_type": "code",
   "execution_count": 27,
   "id": "33cec75b-10ba-4a0c-802c-4d022b372bba",
   "metadata": {},
   "outputs": [
    {
     "ename": "TypeError",
     "evalue": "'float' object is not iterable",
     "output_type": "error",
     "traceback": [
      "\u001b[1;31m---------------------------------------------------------------------------\u001b[0m",
      "\u001b[1;31mTypeError\u001b[0m                                 Traceback (most recent call last)",
      "Cell \u001b[1;32mIn[27], line 3\u001b[0m\n\u001b[0;32m      1\u001b[0m \u001b[38;5;66;03m# Converting to tuple\u001b[39;00m\n\u001b[0;32m      2\u001b[0m float_number \u001b[38;5;241m=\u001b[39m \u001b[38;5;241m3.14\u001b[39m\n\u001b[1;32m----> 3\u001b[0m tuple_value \u001b[38;5;241m=\u001b[39m \u001b[38;5;28mtuple\u001b[39m(float_number)\n\u001b[0;32m      4\u001b[0m \u001b[38;5;28mprint\u001b[39m(\u001b[38;5;124m\"\u001b[39m\u001b[38;5;124mTuple:\u001b[39m\u001b[38;5;124m\"\u001b[39m, tuple_value)\n",
      "\u001b[1;31mTypeError\u001b[0m: 'float' object is not iterable"
     ]
    }
   ],
   "source": [
    "# Converting to tuple\n",
    "float_number = 3.14\n",
    "tuple_value = tuple(float_number)\n",
    "print(\"Tuple:\", tuple_value)"
   ]
  },
  {
   "cell_type": "code",
   "execution_count": 28,
   "id": "e7bccdb7-18b0-447d-a028-8daafedb63fd",
   "metadata": {},
   "outputs": [
    {
     "ename": "TypeError",
     "evalue": "'float' object is not iterable",
     "output_type": "error",
     "traceback": [
      "\u001b[1;31m---------------------------------------------------------------------------\u001b[0m",
      "\u001b[1;31mTypeError\u001b[0m                                 Traceback (most recent call last)",
      "Cell \u001b[1;32mIn[28], line 3\u001b[0m\n\u001b[0;32m      1\u001b[0m \u001b[38;5;66;03m# Converting to set\u001b[39;00m\n\u001b[0;32m      2\u001b[0m float_number \u001b[38;5;241m=\u001b[39m \u001b[38;5;241m3.14\u001b[39m\n\u001b[1;32m----> 3\u001b[0m set_value \u001b[38;5;241m=\u001b[39m \u001b[38;5;28mset\u001b[39m(float_number)\n\u001b[0;32m      4\u001b[0m \u001b[38;5;28mprint\u001b[39m(\u001b[38;5;124m\"\u001b[39m\u001b[38;5;124mSet:\u001b[39m\u001b[38;5;124m\"\u001b[39m, set_value)\n",
      "\u001b[1;31mTypeError\u001b[0m: 'float' object is not iterable"
     ]
    }
   ],
   "source": [
    "# Converting to set\n",
    "float_number = 3.14\n",
    "set_value = set(float_number)\n",
    "print(\"Set:\", set_value)"
   ]
  },
  {
   "cell_type": "code",
   "execution_count": 29,
   "id": "c0450c3d-2870-45ee-b2ce-2a7ad186b5b5",
   "metadata": {},
   "outputs": [
    {
     "ename": "TypeError",
     "evalue": "'float' object is not iterable",
     "output_type": "error",
     "traceback": [
      "\u001b[1;31m---------------------------------------------------------------------------\u001b[0m",
      "\u001b[1;31mTypeError\u001b[0m                                 Traceback (most recent call last)",
      "Cell \u001b[1;32mIn[29], line 3\u001b[0m\n\u001b[0;32m      1\u001b[0m \u001b[38;5;66;03m# Converting to dictionary\u001b[39;00m\n\u001b[0;32m      2\u001b[0m float_number \u001b[38;5;241m=\u001b[39m \u001b[38;5;241m3.14\u001b[39m\n\u001b[1;32m----> 3\u001b[0m dict_value \u001b[38;5;241m=\u001b[39m \u001b[38;5;28mdict\u001b[39m(float_number)\n\u001b[0;32m      4\u001b[0m \u001b[38;5;28mprint\u001b[39m(\u001b[38;5;124m\"\u001b[39m\u001b[38;5;124mDictionary:\u001b[39m\u001b[38;5;124m\"\u001b[39m, dict_value)\n",
      "\u001b[1;31mTypeError\u001b[0m: 'float' object is not iterable"
     ]
    }
   ],
   "source": [
    "# Converting to dictionary\n",
    "float_number = 3.14\n",
    "dict_value = dict(float_number)\n",
    "print(\"Dictionary:\", dict_value)"
   ]
  },
  {
   "cell_type": "markdown",
   "id": "cbfbabf1-7128-4dc1-b029-743616248575",
   "metadata": {},
   "source": [
    "### Boolean values Conversions"
   ]
  },
  {
   "cell_type": "code",
   "execution_count": 37,
   "id": "120a9582-8da6-4564-ab38-6d35f9af549f",
   "metadata": {},
   "outputs": [
    {
     "name": "stdout",
     "output_type": "stream",
     "text": [
      "Integer: 0\n",
      "Float: 0.0\n",
      "Complex: 0j\n",
      "Boolean: False\n",
      "String: False\n"
     ]
    },
    {
     "ename": "TypeError",
     "evalue": "'bool' object is not iterable",
     "output_type": "error",
     "traceback": [
      "\u001b[1;31m---------------------------------------------------------------------------\u001b[0m",
      "\u001b[1;31mTypeError\u001b[0m                                 Traceback (most recent call last)",
      "Cell \u001b[1;32mIn[37], line 25\u001b[0m\n\u001b[0;32m     22\u001b[0m \u001b[38;5;28mprint\u001b[39m(\u001b[38;5;124m\"\u001b[39m\u001b[38;5;124mString:\u001b[39m\u001b[38;5;124m\"\u001b[39m, str_value)\n\u001b[0;32m     24\u001b[0m \u001b[38;5;66;03m# Converting to list\u001b[39;00m\n\u001b[1;32m---> 25\u001b[0m list_value \u001b[38;5;241m=\u001b[39m \u001b[38;5;28mlist\u001b[39m(bool_value)\n\u001b[0;32m     26\u001b[0m \u001b[38;5;28mprint\u001b[39m(\u001b[38;5;124m\"\u001b[39m\u001b[38;5;124mList:\u001b[39m\u001b[38;5;124m\"\u001b[39m, list_value)\n",
      "\u001b[1;31mTypeError\u001b[0m: 'bool' object is not iterable"
     ]
    }
   ],
   "source": [
    "# Boolean value\n",
    "bool_value = False\n",
    "# bool_value = True\n",
    "\n",
    "# Converting to int\n",
    "int_number = int(bool_value)\n",
    "print(\"Integer:\", int_number)\n",
    "\n",
    "# Converting to float\n",
    "float_number = float(bool_value)\n",
    "print(\"Float:\", float_number)\n",
    "\n",
    "# Converting to complex\n",
    "complex_number = complex(bool_value)\n",
    "print(\"Complex:\", complex_number)\n",
    "\n",
    "# Converting to bool (no conversion needed)\n",
    "bool_value = bool(bool_value)\n",
    "print(\"Boolean:\", bool_value)\n",
    "\n",
    "# Converting to str\n",
    "str_value = str(bool_value)\n",
    "print(\"String:\", str_value)\n",
    "\n",
    "# Converting to list\n",
    "list_value = list(bool_value)\n",
    "print(\"List:\", list_value)\n"
   ]
  },
  {
   "cell_type": "code",
   "execution_count": 32,
   "id": "17ac3da7-2acb-46a0-baa6-662ce8543bac",
   "metadata": {},
   "outputs": [
    {
     "ename": "TypeError",
     "evalue": "'bool' object is not iterable",
     "output_type": "error",
     "traceback": [
      "\u001b[1;31m---------------------------------------------------------------------------\u001b[0m",
      "\u001b[1;31mTypeError\u001b[0m                                 Traceback (most recent call last)",
      "Cell \u001b[1;32mIn[32], line 2\u001b[0m\n\u001b[0;32m      1\u001b[0m \u001b[38;5;66;03m# Converting to tuple\u001b[39;00m\n\u001b[1;32m----> 2\u001b[0m tuple_value \u001b[38;5;241m=\u001b[39m \u001b[38;5;28mtuple\u001b[39m(bool_value)\n\u001b[0;32m      3\u001b[0m \u001b[38;5;28mprint\u001b[39m(\u001b[38;5;124m\"\u001b[39m\u001b[38;5;124mTuple:\u001b[39m\u001b[38;5;124m\"\u001b[39m, tuple_value)\n\u001b[0;32m      5\u001b[0m \u001b[38;5;66;03m# Converting to set\u001b[39;00m\n",
      "\u001b[1;31mTypeError\u001b[0m: 'bool' object is not iterable"
     ]
    }
   ],
   "source": [
    "# Converting to tuple\n",
    "tuple_value = tuple(bool_value)\n",
    "print(\"Tuple:\", tuple_value)"
   ]
  },
  {
   "cell_type": "code",
   "execution_count": 34,
   "id": "db5ba316-a87c-46d6-a8a1-c1e24791ef65",
   "metadata": {},
   "outputs": [
    {
     "ename": "TypeError",
     "evalue": "'bool' object is not iterable",
     "output_type": "error",
     "traceback": [
      "\u001b[1;31m---------------------------------------------------------------------------\u001b[0m",
      "\u001b[1;31mTypeError\u001b[0m                                 Traceback (most recent call last)",
      "Cell \u001b[1;32mIn[34], line 2\u001b[0m\n\u001b[0;32m      1\u001b[0m \u001b[38;5;66;03m# Converting to set\u001b[39;00m\n\u001b[1;32m----> 2\u001b[0m set_value \u001b[38;5;241m=\u001b[39m \u001b[38;5;28mset\u001b[39m(bool_value)\n\u001b[0;32m      3\u001b[0m \u001b[38;5;28mprint\u001b[39m(\u001b[38;5;124m\"\u001b[39m\u001b[38;5;124mSet:\u001b[39m\u001b[38;5;124m\"\u001b[39m, set_value)\n",
      "\u001b[1;31mTypeError\u001b[0m: 'bool' object is not iterable"
     ]
    }
   ],
   "source": [
    "# Converting to set\n",
    "set_value = set(bool_value)\n",
    "print(\"Set:\", set_value)"
   ]
  },
  {
   "cell_type": "code",
   "execution_count": 35,
   "id": "ecd17038-6274-4866-8ec5-939311bd6b1c",
   "metadata": {},
   "outputs": [
    {
     "ename": "TypeError",
     "evalue": "'bool' object is not iterable",
     "output_type": "error",
     "traceback": [
      "\u001b[1;31m---------------------------------------------------------------------------\u001b[0m",
      "\u001b[1;31mTypeError\u001b[0m                                 Traceback (most recent call last)",
      "Cell \u001b[1;32mIn[35], line 2\u001b[0m\n\u001b[0;32m      1\u001b[0m \u001b[38;5;66;03m# Converting to dictionary\u001b[39;00m\n\u001b[1;32m----> 2\u001b[0m dict_value \u001b[38;5;241m=\u001b[39m \u001b[38;5;28mdict\u001b[39m( bool_value)\n\u001b[0;32m      3\u001b[0m \u001b[38;5;28mprint\u001b[39m(\u001b[38;5;124m\"\u001b[39m\u001b[38;5;124mDictionary:\u001b[39m\u001b[38;5;124m\"\u001b[39m, dict_value)\n",
      "\u001b[1;31mTypeError\u001b[0m: 'bool' object is not iterable"
     ]
    }
   ],
   "source": [
    "# Converting to dictionary\n",
    "dict_value = dict( bool_value)\n",
    "print(\"Dictionary:\", dict_value)"
   ]
  },
  {
   "cell_type": "markdown",
   "id": "329076d1-da82-4d54-8927-a4ed9ebb4efe",
   "metadata": {},
   "source": [
    "### complex values Conversions"
   ]
  },
  {
   "cell_type": "code",
   "execution_count": 39,
   "id": "86342f1b-d632-46cb-bfc9-c04487c6e5d1",
   "metadata": {},
   "outputs": [
    {
     "ename": "TypeError",
     "evalue": "int() argument must be a string, a bytes-like object or a real number, not 'complex'",
     "output_type": "error",
     "traceback": [
      "\u001b[1;31m---------------------------------------------------------------------------\u001b[0m",
      "\u001b[1;31mTypeError\u001b[0m                                 Traceback (most recent call last)",
      "Cell \u001b[1;32mIn[39], line 5\u001b[0m\n\u001b[0;32m      2\u001b[0m complex_number \u001b[38;5;241m=\u001b[39m \u001b[38;5;241m3\u001b[39m \u001b[38;5;241m+\u001b[39m \u001b[38;5;241m4\u001b[39mj\n\u001b[0;32m      4\u001b[0m \u001b[38;5;66;03m# Converting to int (Not possible)\u001b[39;00m\n\u001b[1;32m----> 5\u001b[0m int_number \u001b[38;5;241m=\u001b[39m \u001b[38;5;28mint\u001b[39m(complex_number)\n\u001b[0;32m      6\u001b[0m \u001b[38;5;28mprint\u001b[39m(\u001b[38;5;124m\"\u001b[39m\u001b[38;5;124mInteger:\u001b[39m\u001b[38;5;124m\"\u001b[39m, int_number)\n",
      "\u001b[1;31mTypeError\u001b[0m: int() argument must be a string, a bytes-like object or a real number, not 'complex'"
     ]
    }
   ],
   "source": [
    "# Complex value\n",
    "complex_number = 3 + 4j\n",
    "\n",
    "# Converting to int (Not possible)\n",
    "int_number = int(complex_number)\n",
    "print(\"Integer:\", int_number)"
   ]
  },
  {
   "cell_type": "code",
   "execution_count": 40,
   "id": "8c8b0612-9ab7-4591-b921-9e2e5bc1e51b",
   "metadata": {},
   "outputs": [
    {
     "ename": "TypeError",
     "evalue": "float() argument must be a string or a real number, not 'complex'",
     "output_type": "error",
     "traceback": [
      "\u001b[1;31m---------------------------------------------------------------------------\u001b[0m",
      "\u001b[1;31mTypeError\u001b[0m                                 Traceback (most recent call last)",
      "Cell \u001b[1;32mIn[40], line 2\u001b[0m\n\u001b[0;32m      1\u001b[0m \u001b[38;5;66;03m# Converting to float (Not possible)\u001b[39;00m\n\u001b[1;32m----> 2\u001b[0m float_number \u001b[38;5;241m=\u001b[39m \u001b[38;5;28mfloat\u001b[39m(complex_number)\n\u001b[0;32m      3\u001b[0m \u001b[38;5;28mprint\u001b[39m(\u001b[38;5;124m\"\u001b[39m\u001b[38;5;124mFloat:\u001b[39m\u001b[38;5;124m\"\u001b[39m, float_number)\n",
      "\u001b[1;31mTypeError\u001b[0m: float() argument must be a string or a real number, not 'complex'"
     ]
    }
   ],
   "source": [
    "# Converting to float\n",
    "float_number = float(complex_number)\n",
    "print(\"Float:\", float_number)"
   ]
  },
  {
   "cell_type": "code",
   "execution_count": 43,
   "id": "20485652-1b0f-4c82-abbc-f91bc1553a55",
   "metadata": {},
   "outputs": [
    {
     "name": "stdout",
     "output_type": "stream",
     "text": [
      "Complex: (3+4j)\n",
      "Boolean: True\n",
      "String: (3+4j)\n"
     ]
    },
    {
     "ename": "TypeError",
     "evalue": "'complex' object is not iterable",
     "output_type": "error",
     "traceback": [
      "\u001b[1;31m---------------------------------------------------------------------------\u001b[0m",
      "\u001b[1;31mTypeError\u001b[0m                                 Traceback (most recent call last)",
      "Cell \u001b[1;32mIn[43], line 14\u001b[0m\n\u001b[0;32m     11\u001b[0m \u001b[38;5;28mprint\u001b[39m(\u001b[38;5;124m\"\u001b[39m\u001b[38;5;124mString:\u001b[39m\u001b[38;5;124m\"\u001b[39m, str_value)\n\u001b[0;32m     13\u001b[0m \u001b[38;5;66;03m# Converting to list (Not possible)\u001b[39;00m\n\u001b[1;32m---> 14\u001b[0m list_value \u001b[38;5;241m=\u001b[39m \u001b[38;5;28mlist\u001b[39m(complex_number)\n\u001b[0;32m     15\u001b[0m \u001b[38;5;28mprint\u001b[39m(\u001b[38;5;124m\"\u001b[39m\u001b[38;5;124mList:\u001b[39m\u001b[38;5;124m\"\u001b[39m, list_value)\n",
      "\u001b[1;31mTypeError\u001b[0m: 'complex' object is not iterable"
     ]
    }
   ],
   "source": [
    "# Converting to complex \n",
    "complex_number = complex(complex_number)\n",
    "print(\"Complex:\", complex_number)\n",
    "\n",
    "# Converting to bool \n",
    "bool_value = bool(complex_number)\n",
    "print(\"Boolean:\", bool_value)\n",
    "\n",
    "# Converting to str\n",
    "str_value = str(complex_number)\n",
    "print(\"String:\", str_value)\n",
    "\n",
    "# Converting to list\n",
    "list_value = list(complex_number)\n",
    "print(\"List:\", list_value)"
   ]
  },
  {
   "cell_type": "code",
   "execution_count": 44,
   "id": "44768f22-d481-4e6f-915d-53f5ad0f8c7a",
   "metadata": {},
   "outputs": [
    {
     "ename": "TypeError",
     "evalue": "'complex' object is not iterable",
     "output_type": "error",
     "traceback": [
      "\u001b[1;31m---------------------------------------------------------------------------\u001b[0m",
      "\u001b[1;31mTypeError\u001b[0m                                 Traceback (most recent call last)",
      "Cell \u001b[1;32mIn[44], line 2\u001b[0m\n\u001b[0;32m      1\u001b[0m \u001b[38;5;66;03m# Converting to tuple (Not possible)\u001b[39;00m\n\u001b[1;32m----> 2\u001b[0m tuple_value \u001b[38;5;241m=\u001b[39m \u001b[38;5;28mtuple\u001b[39m(complex_number)\n\u001b[0;32m      3\u001b[0m \u001b[38;5;28mprint\u001b[39m(\u001b[38;5;124m\"\u001b[39m\u001b[38;5;124mTuple:\u001b[39m\u001b[38;5;124m\"\u001b[39m, tuple_value)\n\u001b[0;32m      5\u001b[0m \u001b[38;5;66;03m# Converting to set (Not possible)\u001b[39;00m\n",
      "\u001b[1;31mTypeError\u001b[0m: 'complex' object is not iterable"
     ]
    }
   ],
   "source": [
    "# Converting to tuple (Not possible)\n",
    "tuple_value = tuple(complex_number)\n",
    "print(\"Tuple:\", tuple_value)"
   ]
  },
  {
   "cell_type": "code",
   "execution_count": 45,
   "id": "fd0cf668-a46f-4078-8d04-1359864d945a",
   "metadata": {},
   "outputs": [
    {
     "ename": "TypeError",
     "evalue": "'complex' object is not iterable",
     "output_type": "error",
     "traceback": [
      "\u001b[1;31m---------------------------------------------------------------------------\u001b[0m",
      "\u001b[1;31mTypeError\u001b[0m                                 Traceback (most recent call last)",
      "Cell \u001b[1;32mIn[45], line 2\u001b[0m\n\u001b[0;32m      1\u001b[0m \u001b[38;5;66;03m# Converting to set (Not possible)\u001b[39;00m\n\u001b[1;32m----> 2\u001b[0m set_value \u001b[38;5;241m=\u001b[39m \u001b[38;5;28mset\u001b[39m(complex_number)\n\u001b[0;32m      3\u001b[0m \u001b[38;5;28mprint\u001b[39m(\u001b[38;5;124m\"\u001b[39m\u001b[38;5;124mSet:\u001b[39m\u001b[38;5;124m\"\u001b[39m, set_value)\n",
      "\u001b[1;31mTypeError\u001b[0m: 'complex' object is not iterable"
     ]
    }
   ],
   "source": [
    "# Converting to set\n",
    "set_value = set(complex_number)\n",
    "print(\"Set:\", set_value)"
   ]
  },
  {
   "cell_type": "code",
   "execution_count": null,
   "id": "b2886d7b-f979-4265-8cdd-d44054fb31f2",
   "metadata": {},
   "outputs": [
    {
     "ename": "TypeError",
     "evalue": "'complex' object is not iterable",
     "output_type": "error",
     "traceback": [
      "\u001b[1;31m---------------------------------------------------------------------------\u001b[0m",
      "\u001b[1;31mTypeError\u001b[0m                                 Traceback (most recent call last)",
      "Cell \u001b[1;32mIn[47], line 2\u001b[0m\n\u001b[0;32m      1\u001b[0m \u001b[38;5;66;03m# Converting to dictionary \u001b[39;00m\n\u001b[1;32m----> 2\u001b[0m dict_value \u001b[38;5;241m=\u001b[39m \u001b[38;5;28mdict\u001b[39m(complex_number)\n\u001b[0;32m      3\u001b[0m \u001b[38;5;28mprint\u001b[39m(\u001b[38;5;124m\"\u001b[39m\u001b[38;5;124mDictionary:\u001b[39m\u001b[38;5;124m\"\u001b[39m, dict_value)\n",
      "\u001b[1;31mTypeError\u001b[0m: 'complex' object is not iterable"
     ]
    }
   ],
   "source": [
    "# Converting to dictionary \n",
    "dict_value = dict(complex_number)\n",
    "print(\"Dictionary:\", dict_value)"
   ]
  },
  {
   "cell_type": "markdown",
   "id": "a2a19ebd",
   "metadata": {},
   "source": []
  },
  {
   "cell_type": "markdown",
   "id": "b73dbcca",
   "metadata": {},
   "source": [
    "### String Conversions"
   ]
  },
  {
   "cell_type": "code",
   "execution_count": 4,
   "id": "23c16c74",
   "metadata": {},
   "outputs": [
    {
     "name": "stdout",
     "output_type": "stream",
     "text": [
      "Integer: 123\n"
     ]
    }
   ],
   "source": [
    "# String value\n",
    "str_value = \"123\"\n",
    "# str_value = 'Madhu'\n",
    "\n",
    "# Converting to int\n",
    "int_number = int(str_value)\n",
    "print(\"Integer:\", int_number)"
   ]
  },
  {
   "cell_type": "code",
   "execution_count": 13,
   "id": "1fbd1874",
   "metadata": {},
   "outputs": [
    {
     "ename": "ValueError",
     "evalue": "could not convert string to float: 'Madhu'",
     "output_type": "error",
     "traceback": [
      "\u001b[1;31m---------------------------------------------------------------------------\u001b[0m",
      "\u001b[1;31mValueError\u001b[0m                                Traceback (most recent call last)",
      "Cell \u001b[1;32mIn[13], line 2\u001b[0m\n\u001b[0;32m      1\u001b[0m \u001b[38;5;66;03m# Converting to float\u001b[39;00m\n\u001b[1;32m----> 2\u001b[0m float_number \u001b[38;5;241m=\u001b[39m \u001b[38;5;28mfloat\u001b[39m(str_value)\n\u001b[0;32m      3\u001b[0m \u001b[38;5;28mprint\u001b[39m(\u001b[38;5;124m\"\u001b[39m\u001b[38;5;124mFloat:\u001b[39m\u001b[38;5;124m\"\u001b[39m, float_number)\n",
      "\u001b[1;31mValueError\u001b[0m: could not convert string to float: 'Madhu'"
     ]
    }
   ],
   "source": [
    "# Converting to float\n",
    "float_number = float(str_value)\n",
    "print(\"Float:\", float_number)"
   ]
  },
  {
   "cell_type": "code",
   "execution_count": 14,
   "id": "62e66856",
   "metadata": {},
   "outputs": [
    {
     "ename": "ValueError",
     "evalue": "complex() arg is a malformed string",
     "output_type": "error",
     "traceback": [
      "\u001b[1;31m---------------------------------------------------------------------------\u001b[0m",
      "\u001b[1;31mValueError\u001b[0m                                Traceback (most recent call last)",
      "Cell \u001b[1;32mIn[14], line 2\u001b[0m\n\u001b[0;32m      1\u001b[0m \u001b[38;5;66;03m# Converting to complex\u001b[39;00m\n\u001b[1;32m----> 2\u001b[0m complex_number \u001b[38;5;241m=\u001b[39m \u001b[38;5;28mcomplex\u001b[39m(str_value)\n\u001b[0;32m      3\u001b[0m \u001b[38;5;28mprint\u001b[39m(\u001b[38;5;124m\"\u001b[39m\u001b[38;5;124mComplex:\u001b[39m\u001b[38;5;124m\"\u001b[39m, complex_number)\n",
      "\u001b[1;31mValueError\u001b[0m: complex() arg is a malformed string"
     ]
    }
   ],
   "source": [
    "# Converting to complex\n",
    "complex_number = complex(str_value)\n",
    "print(\"Complex:\", complex_number)"
   ]
  },
  {
   "cell_type": "code",
   "execution_count": 10,
   "id": "0ee91c1d",
   "metadata": {},
   "outputs": [
    {
     "name": "stdout",
     "output_type": "stream",
     "text": [
      "Boolean: True\n"
     ]
    }
   ],
   "source": [
    "# Converting to bool\n",
    "bool_value = bool(str_value)\n",
    "print(\"Boolean:\", bool_value)"
   ]
  },
  {
   "cell_type": "code",
   "execution_count": 11,
   "id": "f2e2d40d",
   "metadata": {},
   "outputs": [
    {
     "name": "stdout",
     "output_type": "stream",
     "text": [
      "String: Madhu\n",
      "List: ['M', 'a', 'd', 'h', 'u']\n",
      "Tuple: ('M', 'a', 'd', 'h', 'u')\n",
      "Set: {'d', 'u', 'a', 'M', 'h'}\n"
     ]
    },
    {
     "ename": "ValueError",
     "evalue": "dictionary update sequence element #0 has length 1; 2 is required",
     "output_type": "error",
     "traceback": [
      "\u001b[1;31m---------------------------------------------------------------------------\u001b[0m",
      "\u001b[1;31mValueError\u001b[0m                                Traceback (most recent call last)",
      "Cell \u001b[1;32mIn[11], line 18\u001b[0m\n\u001b[0;32m     15\u001b[0m \u001b[38;5;28mprint\u001b[39m(\u001b[38;5;124m\"\u001b[39m\u001b[38;5;124mSet:\u001b[39m\u001b[38;5;124m\"\u001b[39m, set_value)\n\u001b[0;32m     17\u001b[0m \u001b[38;5;66;03m# Converting to dictionary\u001b[39;00m\n\u001b[1;32m---> 18\u001b[0m dict_value \u001b[38;5;241m=\u001b[39m \u001b[38;5;28mdict\u001b[39m(str_value)\n\u001b[0;32m     19\u001b[0m \u001b[38;5;28mprint\u001b[39m(\u001b[38;5;124m\"\u001b[39m\u001b[38;5;124mDictionary:\u001b[39m\u001b[38;5;124m\"\u001b[39m, dict_value)\n",
      "\u001b[1;31mValueError\u001b[0m: dictionary update sequence element #0 has length 1; 2 is required"
     ]
    }
   ],
   "source": [
    "# Converting to str (no conversion needed)\n",
    "str_value = str(str_value)\n",
    "print(\"String:\", str_value)\n",
    "\n",
    "# Converting to list\n",
    "list_value = list(str_value)\n",
    "print(\"List:\", list_value)\n",
    "\n",
    "# Converting to tuple\n",
    "tuple_value = tuple(str_value)\n",
    "print(\"Tuple:\", tuple_value)\n",
    "\n",
    "# Converting to set\n",
    "set_value = set(str_value)\n",
    "print(\"Set:\", set_value)\n",
    "\n",
    "# Converting to dictionary\n",
    "dict_value = dict(str_value)\n",
    "print(\"Dictionary:\", dict_value)"
   ]
  },
  {
   "cell_type": "markdown",
   "id": "46875c44",
   "metadata": {},
   "source": [
    "### List Conversions\n"
   ]
  },
  {
   "cell_type": "code",
   "execution_count": 35,
   "id": "0e1695fc",
   "metadata": {},
   "outputs": [
    {
     "name": "stdout",
     "output_type": "stream",
     "text": [
      "integer: [123, 345, 678, 891]\n"
     ]
    }
   ],
   "source": [
    "# Input List values\n",
    "list_values = ['123','345','678','891']\n",
    "# list_values = ['abc','def','ghi','jkl']\n",
    "output_list=[]\n",
    "\n",
    "# Convert to int\n",
    "for value in list_values:\n",
    "    output_list.append(int(value))\n",
    "print(\"integer:\", output_list)"
   ]
  },
  {
   "cell_type": "code",
   "execution_count": 36,
   "id": "7e2dbabe",
   "metadata": {},
   "outputs": [
    {
     "name": "stdout",
     "output_type": "stream",
     "text": [
      "float: [123.0, 345.0, 678.0, 891.0]\n"
     ]
    }
   ],
   "source": [
    "# Convert to float\n",
    "output_list=[]\n",
    "for value in list_values:\n",
    "    output_list.append(float(value))\n",
    "print(\"float:\", output_list)"
   ]
  },
  {
   "cell_type": "code",
   "execution_count": 37,
   "id": "c5f85cce",
   "metadata": {},
   "outputs": [
    {
     "name": "stdout",
     "output_type": "stream",
     "text": [
      "complex: [(123+0j), (345+0j), (678+0j), (891+0j)]\n"
     ]
    }
   ],
   "source": [
    "# Convert to complex\n",
    "output_list=[]\n",
    "for value in list_values:\n",
    "    output_list.append(complex(value))\n",
    "print(\"complex:\", output_list)"
   ]
  },
  {
   "cell_type": "code",
   "execution_count": 38,
   "id": "b0f16ca3",
   "metadata": {},
   "outputs": [
    {
     "name": "stdout",
     "output_type": "stream",
     "text": [
      "boolean: [True, True, True, True]\n",
      "string: ['123', '345', '678', '891']\n",
      "list: ['123', '345', '678', '891']\n",
      "tuple: ('123', '345', '678', '891')\n",
      "set: {'678', '891', '345', '123'}\n"
     ]
    },
    {
     "ename": "ValueError",
     "evalue": "dictionary update sequence element #0 has length 3; 2 is required",
     "output_type": "error",
     "traceback": [
      "\u001b[1;31m---------------------------------------------------------------------------\u001b[0m",
      "\u001b[1;31mValueError\u001b[0m                                Traceback (most recent call last)",
      "Cell \u001b[1;32mIn[38], line 23\u001b[0m\n\u001b[0;32m     20\u001b[0m \u001b[38;5;28mprint\u001b[39m(\u001b[38;5;124m\"\u001b[39m\u001b[38;5;124mset:\u001b[39m\u001b[38;5;124m\"\u001b[39m, \u001b[38;5;28mset\u001b[39m(list_values))\n\u001b[0;32m     22\u001b[0m \u001b[38;5;66;03m# Convert to dict (assuming the list represents key-value pairs)\u001b[39;00m\n\u001b[1;32m---> 23\u001b[0m \u001b[38;5;28mprint\u001b[39m(\u001b[38;5;124m\"\u001b[39m\u001b[38;5;124mdict:\u001b[39m\u001b[38;5;124m\"\u001b[39m, \u001b[38;5;28mdict\u001b[39m(list_values))\n",
      "\u001b[1;31mValueError\u001b[0m: dictionary update sequence element #0 has length 3; 2 is required"
     ]
    }
   ],
   "source": [
    "# Convert to bool\n",
    "output_list=[]\n",
    "for value in list_values:\n",
    "    output_list.append(bool(value))\n",
    "print(\"boolean:\", output_list)\n",
    "\n",
    "# Convert to str (no conversion needed)\n",
    "output_list=[]\n",
    "for value in list_values:\n",
    "    output_list.append(str(value))\n",
    "print(\"string:\", output_list)\n",
    "\n",
    "# Convert to list (no conversion needed)\n",
    "print(\"list:\", list(list_values))\n",
    "\n",
    "# Convert to tuple\n",
    "print(\"tuple:\",tuple(list_values))\n",
    "\n",
    "# Convert to set\n",
    "print(\"set:\", set(list_values))\n",
    "\n",
    "# Convert to dict (assuming the list represents key-value pairs)\n",
    "print(\"dict:\", dict(list_values))"
   ]
  },
  {
   "cell_type": "markdown",
   "id": "07be82a7",
   "metadata": {},
   "source": [
    "### Tuple Conversions"
   ]
  },
  {
   "cell_type": "code",
   "execution_count": 74,
   "id": "dabea99f",
   "metadata": {},
   "outputs": [
    {
     "ename": "TypeError",
     "evalue": "int() argument must be a string, a bytes-like object or a real number, not 'tuple'",
     "output_type": "error",
     "traceback": [
      "\u001b[1;31m---------------------------------------------------------------------------\u001b[0m",
      "\u001b[1;31mTypeError\u001b[0m                                 Traceback (most recent call last)",
      "Cell \u001b[1;32mIn[74], line 7\u001b[0m\n\u001b[0;32m      3\u001b[0m tuple_values \u001b[38;5;241m=\u001b[39m (\u001b[38;5;124m'\u001b[39m\u001b[38;5;124mabc\u001b[39m\u001b[38;5;124m'\u001b[39m,\u001b[38;5;124m'\u001b[39m\u001b[38;5;124mcde\u001b[39m\u001b[38;5;124m'\u001b[39m,\u001b[38;5;124m'\u001b[39m\u001b[38;5;124mefg\u001b[39m\u001b[38;5;124m'\u001b[39m,\u001b[38;5;124m'\u001b[39m\u001b[38;5;124mghi\u001b[39m\u001b[38;5;124m'\u001b[39m)\n\u001b[0;32m      5\u001b[0m \u001b[38;5;66;03m# Convert to int\u001b[39;00m\n\u001b[0;32m      6\u001b[0m \u001b[38;5;66;03m# for value in tuple_values:\u001b[39;00m\n\u001b[1;32m----> 7\u001b[0m \u001b[38;5;28mprint\u001b[39m(\u001b[38;5;124m\"\u001b[39m\u001b[38;5;124minteger:\u001b[39m\u001b[38;5;124m\"\u001b[39m, \u001b[38;5;28mint\u001b[39m(tuple_values))\n",
      "\u001b[1;31mTypeError\u001b[0m: int() argument must be a string, a bytes-like object or a real number, not 'tuple'"
     ]
    }
   ],
   "source": [
    "# input tuple values\n",
    "# tuple_values = ('123','345','567','789')\n",
    "tuple_values = ('abc','cde','efg','ghi')\n",
    "\n",
    "# Convert to int\n",
    "# for value in tuple_values:\n",
    "print(\"integer:\", int(tuple_values))"
   ]
  },
  {
   "cell_type": "code",
   "execution_count": 73,
   "id": "0c1265a1",
   "metadata": {},
   "outputs": [
    {
     "ename": "ValueError",
     "evalue": "could not convert string to float: 'abc'",
     "output_type": "error",
     "traceback": [
      "\u001b[1;31m---------------------------------------------------------------------------\u001b[0m",
      "\u001b[1;31mValueError\u001b[0m                                Traceback (most recent call last)",
      "Cell \u001b[1;32mIn[73], line 3\u001b[0m\n\u001b[0;32m      1\u001b[0m \u001b[38;5;66;03m# Convert to float\u001b[39;00m\n\u001b[0;32m      2\u001b[0m \u001b[38;5;28;01mfor\u001b[39;00m value \u001b[38;5;129;01min\u001b[39;00m tuple_values:\n\u001b[1;32m----> 3\u001b[0m     \u001b[38;5;28mprint\u001b[39m(\u001b[38;5;124m\"\u001b[39m\u001b[38;5;124mfloat:\u001b[39m\u001b[38;5;124m\"\u001b[39m, \u001b[38;5;28mfloat\u001b[39m(value))\n",
      "\u001b[1;31mValueError\u001b[0m: could not convert string to float: 'abc'"
     ]
    }
   ],
   "source": [
    "# Convert to float\n",
    "for value in tuple_values:\n",
    "    print(\"float:\", float(value))"
   ]
  },
  {
   "cell_type": "code",
   "execution_count": 46,
   "id": "8065b76f",
   "metadata": {},
   "outputs": [
    {
     "ename": "TypeError",
     "evalue": "complex() first argument must be a string or a number, not 'list'",
     "output_type": "error",
     "traceback": [
      "\u001b[1;31m---------------------------------------------------------------------------\u001b[0m",
      "\u001b[1;31mTypeError\u001b[0m                                 Traceback (most recent call last)",
      "Cell \u001b[1;32mIn[46], line 4\u001b[0m\n\u001b[0;32m      2\u001b[0m output_list\u001b[38;5;241m=\u001b[39m[]\n\u001b[0;32m      3\u001b[0m \u001b[38;5;28;01mfor\u001b[39;00m value \u001b[38;5;129;01min\u001b[39;00m list_values:\n\u001b[1;32m----> 4\u001b[0m     output_list\u001b[38;5;241m.\u001b[39mappend(\u001b[38;5;28mcomplex\u001b[39m(value))\n\u001b[0;32m      5\u001b[0m \u001b[38;5;28mprint\u001b[39m(\u001b[38;5;124m\"\u001b[39m\u001b[38;5;124mcomplex:\u001b[39m\u001b[38;5;124m\"\u001b[39m, output_list)\n\u001b[0;32m      7\u001b[0m \u001b[38;5;66;03m# Convert to bool\u001b[39;00m\n",
      "\u001b[1;31mTypeError\u001b[0m: complex() first argument must be a string or a number, not 'list'"
     ]
    }
   ],
   "source": [
    "# Convert to complex\n",
    "output_list=[]\n",
    "for value in tuple_values:\n",
    "    output_list.append(complex(value))\n",
    "print(\"complex:\", output_list)"
   ]
  },
  {
   "cell_type": "code",
   "execution_count": 51,
   "id": "7321ab21",
   "metadata": {},
   "outputs": [
    {
     "name": "stdout",
     "output_type": "stream",
     "text": [
      "boolean: [True, True, True, True]\n",
      "string: ('abc', 'cde', 'efg', 'ghi')\n",
      "list: ['abc', 'cde', 'efg', 'ghi']\n",
      "tuple: ('abc', 'cde', 'efg', 'ghi')\n",
      "set: {'cde', 'abc', 'efg', 'ghi'}\n"
     ]
    },
    {
     "ename": "ValueError",
     "evalue": "dictionary update sequence element #0 has length 3; 2 is required",
     "output_type": "error",
     "traceback": [
      "\u001b[1;31m---------------------------------------------------------------------------\u001b[0m",
      "\u001b[1;31mValueError\u001b[0m                                Traceback (most recent call last)",
      "Cell \u001b[1;32mIn[51], line 20\u001b[0m\n\u001b[0;32m     17\u001b[0m \u001b[38;5;28mprint\u001b[39m(\u001b[38;5;124m\"\u001b[39m\u001b[38;5;124mset:\u001b[39m\u001b[38;5;124m\"\u001b[39m, \u001b[38;5;28mset\u001b[39m(tuple_values))\n\u001b[0;32m     19\u001b[0m \u001b[38;5;66;03m# Convert to dict (assuming the tuple represents key-value pairs)\u001b[39;00m\n\u001b[1;32m---> 20\u001b[0m \u001b[38;5;28mprint\u001b[39m(\u001b[38;5;124m\"\u001b[39m\u001b[38;5;124mdict:\u001b[39m\u001b[38;5;124m\"\u001b[39m, \u001b[38;5;28mdict\u001b[39m(tuple_values))\n",
      "\u001b[1;31mValueError\u001b[0m: dictionary update sequence element #0 has length 3; 2 is required"
     ]
    }
   ],
   "source": [
    "# Convert to bool\n",
    "output_list=[]\n",
    "for value in tuple_values:\n",
    "    output_list.append(bool(value))\n",
    "print(\"boolean:\", output_list)\n",
    "\n",
    "# Convert to str (no conversion needed)\n",
    "print(\"string:\", str(tuple_values))\n",
    "\n",
    "# Convert to list (no conversion needed)\n",
    "print(\"list:\", list(tuple_values))\n",
    "\n",
    "# Convert to tuple (no conversion needed)\n",
    "print(\"tuple:\", tuple(tuple_values))\n",
    "\n",
    "# Convert to set\n",
    "print(\"set:\", set(tuple_values))\n",
    "\n",
    "# Convert to dict (assuming the tuple represents key-value pairs)\n",
    "print(\"dict:\", dict(tuple_values))"
   ]
  },
  {
   "cell_type": "markdown",
   "id": "7e7a9bfc",
   "metadata": {},
   "source": [
    "### Set Conversions"
   ]
  },
  {
   "cell_type": "code",
   "execution_count": 81,
   "id": "23fc5e1e",
   "metadata": {},
   "outputs": [
    {
     "ename": "TypeError",
     "evalue": "int() argument must be a string, a bytes-like object or a real number, not 'set'",
     "output_type": "error",
     "traceback": [
      "\u001b[1;31m---------------------------------------------------------------------------\u001b[0m",
      "\u001b[1;31mTypeError\u001b[0m                                 Traceback (most recent call last)",
      "Cell \u001b[1;32mIn[81], line 9\u001b[0m\n\u001b[0;32m      3\u001b[0m set_values \u001b[38;5;241m=\u001b[39m {\u001b[38;5;124m'\u001b[39m\u001b[38;5;124mabc\u001b[39m\u001b[38;5;124m'\u001b[39m, \u001b[38;5;124m'\u001b[39m\u001b[38;5;124mdef\u001b[39m\u001b[38;5;124m'\u001b[39m,\u001b[38;5;124m'\u001b[39m\u001b[38;5;124mghi\u001b[39m\u001b[38;5;124m'\u001b[39m,\u001b[38;5;124m'\u001b[39m\u001b[38;5;124mijk\u001b[39m\u001b[38;5;124m'\u001b[39m}\n\u001b[0;32m      5\u001b[0m \u001b[38;5;66;03m# Convert to int\u001b[39;00m\n\u001b[0;32m      6\u001b[0m \u001b[38;5;66;03m# for value in set_values:\u001b[39;00m\n\u001b[0;32m      7\u001b[0m \u001b[38;5;66;03m#     print(\"integer:\", int(value))\u001b[39;00m\n\u001b[1;32m----> 9\u001b[0m \u001b[38;5;28mprint\u001b[39m(\u001b[38;5;124m\"\u001b[39m\u001b[38;5;124minteger:\u001b[39m\u001b[38;5;124m\"\u001b[39m, \u001b[38;5;28mint\u001b[39m(set_values))\n",
      "\u001b[1;31mTypeError\u001b[0m: int() argument must be a string, a bytes-like object or a real number, not 'set'"
     ]
    }
   ],
   "source": [
    "# Set values\n",
    "# set_values = {'123', '345','567','789'}\n",
    "set_values = {'abc', 'def','ghi','ijk'}\n",
    "\n",
    "# Convert to int\n",
    "for value in set_values:\n",
    "    print(\"integer:\", int(value))\n",
    "    \n",
    "print(\"integer:\", int(set_values))"
   ]
  },
  {
   "cell_type": "code",
   "execution_count": 79,
   "id": "200ed4ca",
   "metadata": {},
   "outputs": [
    {
     "ename": "ValueError",
     "evalue": "could not convert string to float: 'def'",
     "output_type": "error",
     "traceback": [
      "\u001b[1;31m---------------------------------------------------------------------------\u001b[0m",
      "\u001b[1;31mValueError\u001b[0m                                Traceback (most recent call last)",
      "Cell \u001b[1;32mIn[79], line 3\u001b[0m\n\u001b[0;32m      1\u001b[0m \u001b[38;5;66;03m# Convert to float\u001b[39;00m\n\u001b[0;32m      2\u001b[0m \u001b[38;5;28;01mfor\u001b[39;00m value \u001b[38;5;129;01min\u001b[39;00m set_values:\n\u001b[1;32m----> 3\u001b[0m     \u001b[38;5;28mprint\u001b[39m(\u001b[38;5;124m\"\u001b[39m\u001b[38;5;124mfloat:\u001b[39m\u001b[38;5;124m\"\u001b[39m, \u001b[38;5;28mfloat\u001b[39m(value))\n\u001b[0;32m      4\u001b[0m \u001b[38;5;28mprint\u001b[39m(\u001b[38;5;124m\"\u001b[39m\u001b[38;5;124mfloat:\u001b[39m\u001b[38;5;124m\"\u001b[39m, \u001b[38;5;28mfloat\u001b[39m(set_values))\n",
      "\u001b[1;31mValueError\u001b[0m: could not convert string to float: 'def'"
     ]
    }
   ],
   "source": [
    "# Convert to float\n",
    "for value in set_values:\n",
    "    print(\"float:\", float(value))\n",
    "    \n",
    "print(\"float:\", float(set_values))"
   ]
  },
  {
   "cell_type": "code",
   "execution_count": 82,
   "id": "346d7ed9",
   "metadata": {},
   "outputs": [
    {
     "ename": "TypeError",
     "evalue": "complex() first argument must be a string or a number, not 'set'",
     "output_type": "error",
     "traceback": [
      "\u001b[1;31m---------------------------------------------------------------------------\u001b[0m",
      "\u001b[1;31mTypeError\u001b[0m                                 Traceback (most recent call last)",
      "Cell \u001b[1;32mIn[82], line 5\u001b[0m\n\u001b[0;32m      1\u001b[0m \u001b[38;5;66;03m# Convert to complex\u001b[39;00m\n\u001b[0;32m      2\u001b[0m \u001b[38;5;66;03m# for value in set_values:\u001b[39;00m\n\u001b[0;32m      3\u001b[0m \u001b[38;5;66;03m#     print(\"complex:\", complex(value))\u001b[39;00m\n\u001b[1;32m----> 5\u001b[0m \u001b[38;5;28mprint\u001b[39m(\u001b[38;5;124m\"\u001b[39m\u001b[38;5;124mcomplex:\u001b[39m\u001b[38;5;124m\"\u001b[39m, \u001b[38;5;28mcomplex\u001b[39m(set_values))\n",
      "\u001b[1;31mTypeError\u001b[0m: complex() first argument must be a string or a number, not 'set'"
     ]
    }
   ],
   "source": [
    "# Convert to complex\n",
    "# for value in set_values:\n",
    "#     print(\"complex:\", complex(value))\n",
    "    \n",
    "print(\"complex:\", complex(set_values))"
   ]
  },
  {
   "cell_type": "code",
   "execution_count": 83,
   "id": "c565962b",
   "metadata": {},
   "outputs": [
    {
     "name": "stdout",
     "output_type": "stream",
     "text": [
      "boolean: True\n"
     ]
    }
   ],
   "source": [
    "# Convert to bool\n",
    "# for value in set_values:\n",
    "#     print(\"boolean:\", bool(value))\n",
    "    \n",
    "print(\"boolean:\", bool(set_values))"
   ]
  },
  {
   "cell_type": "code",
   "execution_count": 84,
   "id": "08b33371",
   "metadata": {},
   "outputs": [
    {
     "name": "stdout",
     "output_type": "stream",
     "text": [
      "string: def\n",
      "string: abc\n",
      "string: ijk\n",
      "string: ghi\n",
      "string: {'def', 'abc', 'ijk', 'ghi'}\n",
      "list: ['def', 'abc', 'ijk', 'ghi']\n",
      "tuple: ('def', 'abc', 'ijk', 'ghi')\n",
      "set: {'def', 'abc', 'ijk', 'ghi'}\n"
     ]
    },
    {
     "ename": "ValueError",
     "evalue": "dictionary update sequence element #0 has length 3; 2 is required",
     "output_type": "error",
     "traceback": [
      "\u001b[1;31m---------------------------------------------------------------------------\u001b[0m",
      "\u001b[1;31mValueError\u001b[0m                                Traceback (most recent call last)",
      "Cell \u001b[1;32mIn[84], line 17\u001b[0m\n\u001b[0;32m     14\u001b[0m \u001b[38;5;28mprint\u001b[39m(\u001b[38;5;124m\"\u001b[39m\u001b[38;5;124mset:\u001b[39m\u001b[38;5;124m\"\u001b[39m, \u001b[38;5;28mset\u001b[39m(set_values))\n\u001b[0;32m     16\u001b[0m \u001b[38;5;66;03m# Convert to dict (assuming the set represents key-value pairs)\u001b[39;00m\n\u001b[1;32m---> 17\u001b[0m \u001b[38;5;28mprint\u001b[39m(\u001b[38;5;124m\"\u001b[39m\u001b[38;5;124mdict:\u001b[39m\u001b[38;5;124m\"\u001b[39m, \u001b[38;5;28mdict\u001b[39m(set_values))\n",
      "\u001b[1;31mValueError\u001b[0m: dictionary update sequence element #0 has length 3; 2 is required"
     ]
    }
   ],
   "source": [
    "# Convert to str (no conversion needed)\n",
    "for value in set_values:\n",
    "    print(\"string:\", str(value))\n",
    "    \n",
    "print(\"string:\", str(set_values))"
   ]
  },
  {
   "cell_type": "code",
   "execution_count": 85,
   "id": "73399206",
   "metadata": {},
   "outputs": [
    {
     "name": "stdout",
     "output_type": "stream",
     "text": [
      "list: ['def', 'abc', 'ijk', 'ghi']\n",
      "tuple: ('def', 'abc', 'ijk', 'ghi')\n",
      "set: {'def', 'abc', 'ijk', 'ghi'}\n"
     ]
    },
    {
     "ename": "ValueError",
     "evalue": "dictionary update sequence element #0 has length 3; 2 is required",
     "output_type": "error",
     "traceback": [
      "\u001b[1;31m---------------------------------------------------------------------------\u001b[0m",
      "\u001b[1;31mValueError\u001b[0m                                Traceback (most recent call last)",
      "Cell \u001b[1;32mIn[85], line 11\u001b[0m\n\u001b[0;32m      8\u001b[0m \u001b[38;5;28mprint\u001b[39m(\u001b[38;5;124m\"\u001b[39m\u001b[38;5;124mset:\u001b[39m\u001b[38;5;124m\"\u001b[39m, \u001b[38;5;28mset\u001b[39m(set_values))\n\u001b[0;32m     10\u001b[0m \u001b[38;5;66;03m# Convert to dict (assuming the set represents key-value pairs)\u001b[39;00m\n\u001b[1;32m---> 11\u001b[0m \u001b[38;5;28mprint\u001b[39m(\u001b[38;5;124m\"\u001b[39m\u001b[38;5;124mdict:\u001b[39m\u001b[38;5;124m\"\u001b[39m, \u001b[38;5;28mdict\u001b[39m(set_values))\n",
      "\u001b[1;31mValueError\u001b[0m: dictionary update sequence element #0 has length 3; 2 is required"
     ]
    }
   ],
   "source": [
    "# Convert to list (no conversion needed)\n",
    "print(\"list:\", list(set_values))\n",
    "\n",
    "# Convert to tuple\n",
    "print(\"tuple:\", tuple(set_values))\n",
    "\n",
    "# Convert to set (no conversion needed)\n",
    "print(\"set:\", set(set_values))\n",
    "\n",
    "# Convert to dict (assuming the set represents key-value pairs)\n",
    "print(\"dict:\", dict(set_values))"
   ]
  },
  {
   "cell_type": "markdown",
   "id": "72b0e9cb",
   "metadata": {},
   "source": [
    "### Dict values Conversions"
   ]
  },
  {
   "cell_type": "code",
   "execution_count": 5,
   "id": "bd507aa4",
   "metadata": {},
   "outputs": [
    {
     "ename": "ValueError",
     "evalue": "invalid literal for int() with base 10: 'name'",
     "output_type": "error",
     "traceback": [
      "\u001b[1;31m---------------------------------------------------------------------------\u001b[0m",
      "\u001b[1;31mValueError\u001b[0m                                Traceback (most recent call last)",
      "Cell \u001b[1;32mIn[5], line 6\u001b[0m\n\u001b[0;32m      4\u001b[0m \u001b[38;5;66;03m# Convert to int\u001b[39;00m\n\u001b[0;32m      5\u001b[0m \u001b[38;5;28;01mfor\u001b[39;00m key, value \u001b[38;5;129;01min\u001b[39;00m dict_values\u001b[38;5;241m.\u001b[39mitems():\n\u001b[1;32m----> 6\u001b[0m     \u001b[38;5;28mprint\u001b[39m(\u001b[38;5;28mint\u001b[39m(key), \u001b[38;5;124m\"\u001b[39m\u001b[38;5;124m:\u001b[39m\u001b[38;5;124m\"\u001b[39m, \u001b[38;5;28mint\u001b[39m(value))\n",
      "\u001b[1;31mValueError\u001b[0m: invalid literal for int() with base 10: 'name'"
     ]
    }
   ],
   "source": [
    "# Dictionary values\n",
    "dict_values = {'name':'xyz','age':25,'salary':200000,'isManager':True,'isCeo':False}\n",
    "\n",
    "# Convert to int\n",
    "for key, value in dict_values.items():\n",
    "    print(int(key), \":\", int(value))"
   ]
  },
  {
   "cell_type": "code",
   "execution_count": 87,
   "id": "377d73d0",
   "metadata": {},
   "outputs": [
    {
     "ename": "ValueError",
     "evalue": "could not convert string to float: 'name'",
     "output_type": "error",
     "traceback": [
      "\u001b[1;31m---------------------------------------------------------------------------\u001b[0m",
      "\u001b[1;31mValueError\u001b[0m                                Traceback (most recent call last)",
      "Cell \u001b[1;32mIn[87], line 3\u001b[0m\n\u001b[0;32m      1\u001b[0m \u001b[38;5;66;03m# Convert to int\u001b[39;00m\n\u001b[0;32m      2\u001b[0m \u001b[38;5;28;01mfor\u001b[39;00m key, value \u001b[38;5;129;01min\u001b[39;00m dict_values\u001b[38;5;241m.\u001b[39mitems():\n\u001b[1;32m----> 3\u001b[0m     \u001b[38;5;28mprint\u001b[39m(\u001b[38;5;28mfloat\u001b[39m(key), \u001b[38;5;124m\"\u001b[39m\u001b[38;5;124m:\u001b[39m\u001b[38;5;124m\"\u001b[39m, \u001b[38;5;28mfloat\u001b[39m(value))\n",
      "\u001b[1;31mValueError\u001b[0m: could not convert string to float: 'name'"
     ]
    }
   ],
   "source": [
    "# Convert to float\n",
    "for key, value in dict_values.items():\n",
    "    print(float(key), \":\", float(value))"
   ]
  },
  {
   "cell_type": "code",
   "execution_count": 88,
   "id": "52d745f2",
   "metadata": {},
   "outputs": [
    {
     "ename": "ValueError",
     "evalue": "complex() arg is a malformed string",
     "output_type": "error",
     "traceback": [
      "\u001b[1;31m---------------------------------------------------------------------------\u001b[0m",
      "\u001b[1;31mValueError\u001b[0m                                Traceback (most recent call last)",
      "Cell \u001b[1;32mIn[88], line 3\u001b[0m\n\u001b[0;32m      1\u001b[0m \u001b[38;5;66;03m# Convert to complex\u001b[39;00m\n\u001b[0;32m      2\u001b[0m \u001b[38;5;28;01mfor\u001b[39;00m key, value \u001b[38;5;129;01min\u001b[39;00m dict_values\u001b[38;5;241m.\u001b[39mitems():\n\u001b[1;32m----> 3\u001b[0m     \u001b[38;5;28mprint\u001b[39m(\u001b[38;5;28mcomplex\u001b[39m(key), \u001b[38;5;124m\"\u001b[39m\u001b[38;5;124m:\u001b[39m\u001b[38;5;124m\"\u001b[39m, \u001b[38;5;28mcomplex\u001b[39m(value))\n",
      "\u001b[1;31mValueError\u001b[0m: complex() arg is a malformed string"
     ]
    }
   ],
   "source": [
    "# Convert to complex\n",
    "for key, value in dict_values.items():\n",
    "    print(complex(key), \":\", complex(value))"
   ]
  },
  {
   "cell_type": "code",
   "execution_count": 89,
   "id": "0efde349",
   "metadata": {},
   "outputs": [
    {
     "name": "stdout",
     "output_type": "stream",
     "text": [
      "True : True\n",
      "True : True\n",
      "True : True\n",
      "True : True\n",
      "True : False\n"
     ]
    }
   ],
   "source": [
    "# Convert to boolean\n",
    "for key, value in dict_values.items():\n",
    "    print(bool(key), \":\", bool(value))"
   ]
  },
  {
   "cell_type": "code",
   "execution_count": 90,
   "id": "b7ea6a38",
   "metadata": {},
   "outputs": [
    {
     "name": "stdout",
     "output_type": "stream",
     "text": [
      "name : Madhu\n",
      "age : 25\n",
      "salary : 200000\n",
      "isManager : True\n",
      "isCeo : False\n"
     ]
    }
   ],
   "source": [
    "# Convert to string\n",
    "for key, value in dict_values.items():\n",
    "    print(str(key), \":\", str(value))"
   ]
  },
  {
   "cell_type": "code",
   "execution_count": 93,
   "id": "a6d34549",
   "metadata": {},
   "outputs": [
    {
     "name": "stdout",
     "output_type": "stream",
     "text": [
      "dict to list ['name', 'age', 'salary', 'isManager', 'isCeo']\n",
      "dict to tuple ('name', 'age', 'salary', 'isManager', 'isCeo')\n",
      "dict to set {'age', 'isCeo', 'name', 'salary', 'isManager'}\n",
      "dict to dict {'name': 'Madhu', 'age': 25, 'salary': 200000, 'isManager': True, 'isCeo': False}\n"
     ]
    }
   ],
   "source": [
    "# Convert to list\n",
    "print(\"dict to list\",list(dict_values))\n",
    "\n",
    "print(\"dict to tuple\",tuple(dict_values))\n",
    "\n",
    "print(\"dict to set\",set(dict_values))\n",
    "\n",
    "print(\"dict to dict\",dict(dict_values))"
   ]
  }
 ],
 "metadata": {
  "kernelspec": {
   "display_name": "Python 3 (ipykernel)",
   "language": "python",
   "name": "python3"
  },
  "language_info": {
   "codemirror_mode": {
    "name": "ipython",
    "version": 3
   },
   "file_extension": ".py",
   "mimetype": "text/x-python",
   "name": "python",
   "nbconvert_exporter": "python",
   "pygments_lexer": "ipython3",
   "version": "3.11.7"
  }
 },
 "nbformat": 4,
 "nbformat_minor": 5
}
