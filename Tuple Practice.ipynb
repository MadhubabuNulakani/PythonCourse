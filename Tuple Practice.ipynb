{
 "cells": [
  {
   "cell_type": "markdown",
   "id": "6486341f-61bb-4b95-8976-19ffdaf35d00",
   "metadata": {},
   "source": [
    "### Dec;aration"
   ]
  },
  {
   "cell_type": "code",
   "execution_count": 1,
   "id": "5c14d8d8-d66b-4e3b-aa34-cf83f1d6a162",
   "metadata": {},
   "outputs": [
    {
     "name": "stdout",
     "output_type": "stream",
     "text": [
      "() <class 'tuple'> 0\n"
     ]
    }
   ],
   "source": [
    "tuple_1=()\n",
    "print(tuple_1,type(tuple_1),len(tuple_1))"
   ]
  },
  {
   "cell_type": "code",
   "execution_count": 7,
   "id": "ee4e0b39-1b33-47e2-8791-11fd5a65ae34",
   "metadata": {},
   "outputs": [
    {
     "name": "stdout",
     "output_type": "stream",
     "text": [
      "(1, 2) <class 'tuple'> 2\n"
     ]
    }
   ],
   "source": [
    "tuple_2=tuple({1,2})\n",
    "print(tuple_2,type(tuple_2),len(tuple_2))"
   ]
  }
 ],
 "metadata": {
  "kernelspec": {
   "display_name": "Python 3 (ipykernel)",
   "language": "python",
   "name": "python3"
  },
  "language_info": {
   "codemirror_mode": {
    "name": "ipython",
    "version": 3
   },
   "file_extension": ".py",
   "mimetype": "text/x-python",
   "name": "python",
   "nbconvert_exporter": "python",
   "pygments_lexer": "ipython3",
   "version": "3.11.7"
  }
 },
 "nbformat": 4,
 "nbformat_minor": 5
}
