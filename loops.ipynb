{
 "cells": [
  {
   "cell_type": "markdown",
   "id": "dca1ab94-0b60-4131-a9cc-d1f586619f5c",
   "metadata": {},
   "source": [
    "### For Loop"
   ]
  },
  {
   "cell_type": "code",
   "execution_count": 2,
   "id": "c867afb6-a552-43a3-83a5-cb8c3638d724",
   "metadata": {},
   "outputs": [
    {
     "name": "stdout",
     "output_type": "stream",
     "text": [
      "0\n",
      "1\n",
      "2\n",
      "3\n",
      "4\n",
      "5\n",
      "5\n"
     ]
    }
   ],
   "source": [
    "for i in range(6):\n",
    "    print(i)\n",
    "else:\n",
    "    print(i)"
   ]
  },
  {
   "cell_type": "code",
   "execution_count": 34,
   "id": "a26ea651-fe2b-4ed6-8cbb-9f34bfc7d05c",
   "metadata": {},
   "outputs": [
    {
     "name": "stdout",
     "output_type": "stream",
     "text": [
      "34\n",
      "99\n",
      "66\n",
      "25\n",
      "77\n",
      "78\n"
     ]
    }
   ],
   "source": [
    "marks={34,25,34,78,99,77,66}\n",
    "for item in marks:\n",
    "    print(f\"{item}\")\n",
    "    if (item==78):\n",
    "        break\n",
    "# else:\n",
    "    # print(item)"
   ]
  },
  {
   "cell_type": "code",
   "execution_count": 35,
   "id": "f9a26690-78bb-4cea-afe9-e88ddd3f44b2",
   "metadata": {},
   "outputs": [
    {
     "name": "stdout",
     "output_type": "stream",
     "text": [
      "25\n",
      "madhu\n"
     ]
    }
   ],
   "source": [
    "person = {\"age\":25,\"name\":\"madhu\"}\n",
    "for person in person.values():\n",
    "    print(person)"
   ]
  },
  {
   "cell_type": "code",
   "execution_count": 37,
   "id": "d31fcba2-7050-49e2-ae80-c1c5cd4abd47",
   "metadata": {},
   "outputs": [
    {
     "name": "stdout",
     "output_type": "stream",
     "text": [
      "('age', 25)\n",
      "('name', 'madhu')\n"
     ]
    }
   ],
   "source": [
    "person = {\"age\":25,\"name\":\"madhu\"}\n",
    "for person in person.items():\n",
    "    print(person)"
   ]
  },
  {
   "cell_type": "code",
   "execution_count": 39,
   "id": "ef14d165-3d5f-43bd-a374-b281d61f843e",
   "metadata": {},
   "outputs": [
    {
     "name": "stdout",
     "output_type": "stream",
     "text": [
      " age : 25\n",
      " name : madhu\n"
     ]
    }
   ],
   "source": [
    "person = {\"age\":25,\"name\":\"madhu\"}\n",
    "for key,value in person.items():\n",
    "    print(f\" {key} : {value}\")"
   ]
  },
  {
   "cell_type": "code",
   "execution_count": 36,
   "id": "03896dea-4bb1-4efa-a1ca-840a0cf5c79f",
   "metadata": {},
   "outputs": [
    {
     "name": "stdout",
     "output_type": "stream",
     "text": [
      "age\n",
      "name\n"
     ]
    }
   ],
   "source": [
    "person = {\"age\":25,\"name\":\"madhu\"}\n",
    "for person in person:\n",
    "    print(person)"
   ]
  },
  {
   "cell_type": "code",
   "execution_count": 42,
   "id": "d3c04df1-61bd-42a8-a04c-1a0febb7c026",
   "metadata": {},
   "outputs": [
    {
     "name": "stdout",
     "output_type": "stream",
     "text": [
      "0\n",
      "1\n",
      "2\n",
      "3\n",
      "4\n",
      "5\n",
      "6\n",
      "7\n",
      "8\n",
      "9\n"
     ]
    }
   ],
   "source": [
    "for num in range(0,10):\n",
    "    print(num)"
   ]
  },
  {
   "cell_type": "code",
   "execution_count": 49,
   "id": "c4099258-5668-43fa-b314-2b5f986bc594",
   "metadata": {},
   "outputs": [
    {
     "name": "stdout",
     "output_type": "stream",
     "text": [
      "0\n",
      "end of the loop\n"
     ]
    }
   ],
   "source": [
    "for num in range(0,10,10):\n",
    "    print(num)\n",
    "else:\n",
    "    print(\"end of the loop\")"
   ]
  },
  {
   "cell_type": "code",
   "execution_count": 67,
   "id": "6fb70972-4585-4ea4-bcb2-cddbf1b0f082",
   "metadata": {},
   "outputs": [
    {
     "name": "stdout",
     "output_type": "stream",
     "text": [
      "madhu\n",
      "priya"
     ]
    }
   ],
   "source": [
    "for char in \"madhu priya\":\n",
    "    if(char ==' '):\n",
    "      print()\n",
    "    else:\n",
    "        print(char,end='')\n"
   ]
  },
  {
   "cell_type": "code",
   "execution_count": 82,
   "id": "973a4776-a0ee-4361-a318-7e0eeff13ada",
   "metadata": {},
   "outputs": [
    {
     "name": "stdout",
     "output_type": "stream",
     "text": [
      "0 2\n",
      "1 3\n"
     ]
    }
   ],
   "source": [
    "num_list = [4, 2, 6, 8]\n",
    "target = 10\n",
    "\n",
    "\n",
    "for i in range(len(num_list)):\n",
    "    for j in range(i+1,len(num_list)):\n",
    "        if(num_list[i]+num_list[j]==target):\n",
    "            print(i,j)"
   ]
  },
  {
   "cell_type": "code",
   "execution_count": 113,
   "id": "070ed66c-369c-446b-a09e-f143b9606b3f",
   "metadata": {},
   "outputs": [
    {
     "ename": "TypeError",
     "evalue": "unsupported operand type(s) for -: 'enumerate' and 'int'",
     "output_type": "error",
     "traceback": [
      "\u001b[1;31m---------------------------------------------------------------------------\u001b[0m",
      "\u001b[1;31mTypeError\u001b[0m                                 Traceback (most recent call last)",
      "Cell \u001b[1;32mIn[113], line 4\u001b[0m\n\u001b[0;32m      1\u001b[0m num_list \u001b[38;5;241m=\u001b[39m [\u001b[38;5;241m4\u001b[39m, \u001b[38;5;241m2\u001b[39m, \u001b[38;5;241m6\u001b[39m, \u001b[38;5;241m8\u001b[39m]\n\u001b[0;32m      2\u001b[0m target \u001b[38;5;241m=\u001b[39m \u001b[38;5;241m10\u001b[39m\n\u001b[1;32m----> 4\u001b[0m \u001b[38;5;28;01mfor\u001b[39;00m idx,val \u001b[38;5;129;01min\u001b[39;00m \u001b[38;5;28menumerate\u001b[39m(num_list)\u001b[38;5;241m-\u001b[39m\u001b[38;5;241m1\u001b[39m:\n\u001b[0;32m      5\u001b[0m     \u001b[38;5;28mprint\u001b[39m(num_list[idx])\n",
      "\u001b[1;31mTypeError\u001b[0m: unsupported operand type(s) for -: 'enumerate' and 'int'"
     ]
    }
   ],
   "source": [
    "num_list = [4, 2, 6, 8]\n",
    "target = 10\n",
    "\n",
    "for idx,val in enumerate(num_list):\n",
    "    print(num_list[idx]);\n",
    "\n",
    "       "
   ]
  },
  {
   "cell_type": "code",
   "execution_count": 132,
   "id": "81b51a7c-eb3d-4ec9-9bb9-033adffb8d24",
   "metadata": {},
   "outputs": [
    {
     "name": "stdout",
     "output_type": "stream",
     "text": [
      "4\n",
      "2\n",
      "6\n",
      "8\n",
      "4\n",
      "2\n",
      "6\n",
      "8\n",
      "4\n",
      "2\n",
      "6\n",
      "8\n",
      "4\n",
      "2\n",
      "6\n",
      "8\n"
     ]
    },
    {
     "ename": "ValueError",
     "evalue": "list.remove(x): x not in list",
     "output_type": "error",
     "traceback": [
      "\u001b[1;31m---------------------------------------------------------------------------\u001b[0m",
      "\u001b[1;31mValueError\u001b[0m                                Traceback (most recent call last)",
      "Cell \u001b[1;32mIn[132], line 7\u001b[0m\n\u001b[0;32m      5\u001b[0m         \u001b[38;5;28mprint\u001b[39m(num_list[idx1])\n\u001b[0;32m      6\u001b[0m \u001b[38;5;28;01melse\u001b[39;00m:\n\u001b[1;32m----> 7\u001b[0m     num_list\u001b[38;5;241m.\u001b[39mremove(idx)\n",
      "\u001b[1;31mValueError\u001b[0m: list.remove(x): x not in list"
     ]
    }
   ],
   "source": [
    "num_list = [4,2,6,8] # [(0, 2), (1, 3)]\n",
    "target = 10\n",
    "for idx,value_1 in enumerate(num_list):\n",
    "    for idx1,value_2 in enumerate(num_list):\n",
    "        print(num_list[idx1])\n",
    "else:\n",
    "    num_list.remove(idx)\n"
   ]
  }
 ],
 "metadata": {
  "kernelspec": {
   "display_name": "Python 3 (ipykernel)",
   "language": "python",
   "name": "python3"
  },
  "language_info": {
   "codemirror_mode": {
    "name": "ipython",
    "version": 3
   },
   "file_extension": ".py",
   "mimetype": "text/x-python",
   "name": "python",
   "nbconvert_exporter": "python",
   "pygments_lexer": "ipython3",
   "version": "3.11.7"
  }
 },
 "nbformat": 4,
 "nbformat_minor": 5
}
