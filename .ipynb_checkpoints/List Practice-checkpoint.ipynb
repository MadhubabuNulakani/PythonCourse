{
 "cells": [
  {
   "cell_type": "markdown",
   "id": "fbf4ddfe-0e36-4ec1-9eec-e4aab6e1064e",
   "metadata": {},
   "source": [
    "### you are given 2d list containing integers, your task is find the index value of the sublist which list have the average value is graterthan 20"
   ]
  },
  {
   "cell_type": "code",
   "execution_count": 21,
   "id": "d0657436-b95f-4247-be41-b080497ac8da",
   "metadata": {},
   "outputs": [
    {
     "name": "stdout",
     "output_type": "stream",
     "text": [
      "ERROR: the data contains invalid datatype at 4 with ['', 21, 22].\n"
     ]
    }
   ],
   "source": [
    "two_dim_data=[[10,30,30],[5,10,15],[25,30],[20],[\"\",21,22]]\n",
    "avg_greater_than_20_idx=[];\n",
    "is_process_success=True\n",
    "for idx, value in enumerate(two_dim_data):\n",
    "    if all([type(element)==int for element in value]):\n",
    "        if len(value) !=0:\n",
    "            avg=sum(value)/len(value)\n",
    "            if avg >20:\n",
    "                avg_greater_than_20_idx.append(idx)\n",
    "    else:\n",
    "        print(f\"ERROR: the data contains invalid datatype at {idx} with {value}.\")\n",
    "        is_process_success=False\n",
    "if(is_process_success):\n",
    "    print(avg_greater_than_20_idx)\n",
    "    "
   ]
  }
 ],
 "metadata": {
  "kernelspec": {
   "display_name": "Python 3 (ipykernel)",
   "language": "python",
   "name": "python3"
  },
  "language_info": {
   "codemirror_mode": {
    "name": "ipython",
    "version": 3
   },
   "file_extension": ".py",
   "mimetype": "text/x-python",
   "name": "python",
   "nbconvert_exporter": "python",
   "pygments_lexer": "ipython3",
   "version": "3.11.7"
  }
 },
 "nbformat": 4,
 "nbformat_minor": 5
}
