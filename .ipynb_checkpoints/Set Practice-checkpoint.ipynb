{
 "cells": [
  {
   "cell_type": "markdown",
   "id": "ff1829ca-3674-4ae3-b9b6-c991d086bcdc",
   "metadata": {},
   "source": [
    "### Declaration"
   ]
  },
  {
   "cell_type": "code",
   "execution_count": 1,
   "id": "e6d42fb5-fd0c-4945-9ab4-17c3dd1a224e",
   "metadata": {},
   "outputs": [
    {
     "name": "stdout",
     "output_type": "stream",
     "text": [
      "{} <class 'dict'> 2843885955968\n"
     ]
    }
   ],
   "source": [
    "# not possible\n",
    "set_data_1={}\n",
    "print(set_data_1,type(set_data_1),id(set_data_1))"
   ]
  },
  {
   "cell_type": "code",
   "execution_count": 2,
   "id": "4cd6382d-03c0-4a23-809a-20aac3def711",
   "metadata": {},
   "outputs": [
    {
     "name": "stdout",
     "output_type": "stream",
     "text": [
      "set() <class 'set'> 2843885849056\n"
     ]
    }
   ],
   "source": [
    "set_data_2=set()\n",
    "print(set_data_2,type(set_data_2),id(set_data_2))"
   ]
  },
  {
   "cell_type": "markdown",
   "id": "37a0b93b-edd3-4ed0-aeb3-db0de6a6c9b5",
   "metadata": {},
   "source": [
    "#### copy()  \n",
    "##### Returns a shallow copy of the set -> by default python copy() performs shallow copy operation but in set data type it behavious as a deep copy because set is not allow the internobject methodaology"
   ]
  },
  {
   "cell_type": "code",
   "execution_count": 3,
   "id": "ecacd660-3e7e-4b69-bfbe-35bfb97ed4e2",
   "metadata": {},
   "outputs": [
    {
     "name": "stdout",
     "output_type": "stream",
     "text": [
      "mainSet: {1, 2, 3}, 2843885848832\n",
      "copiedSet: {1, 2, 3}, 2843885849280\n"
     ]
    }
   ],
   "source": [
    "main_set= {1, 2, 3}\n",
    "copied_set = main_set.copy()  \n",
    "print(f\"mainSet: {main_set}, {id(main_set)}\\ncopiedSet: {copied_set}, {id(copied_set)}\")"
   ]
  },
  {
   "cell_type": "code",
   "execution_count": 4,
   "id": "72599cff-03bf-4c83-9e8c-682068d50645",
   "metadata": {},
   "outputs": [],
   "source": [
    "# copied_set.add(4)\n",
    "# print(f\"mainSet: {main_set}, {id(main_set)}\\ncopiedSet: {copied_set}, {id(copied_set)}\")"
   ]
  },
  {
   "cell_type": "code",
   "execution_count": 5,
   "id": "84367b0c-4476-4f12-86fe-9d73bda02272",
   "metadata": {},
   "outputs": [
    {
     "name": "stdout",
     "output_type": "stream",
     "text": [
      "mainSet: {1, 2, 3, 6}, 2843885848832\n",
      "copiedSet: {1, 2, 3}, 2843885849280\n"
     ]
    }
   ],
   "source": [
    "main_set.add(6)\n",
    "print(f\"mainSet: {main_set}, {id(main_set)}\\ncopiedSet: {copied_set}, {id(copied_set)}\")"
   ]
  },
  {
   "cell_type": "markdown",
   "id": "12d8c1da-a20d-4dfb-9685-ab38a66477c5",
   "metadata": {},
   "source": [
    "#### add()\n",
    "##### Adds an element to the set."
   ]
  },
  {
   "cell_type": "code",
   "execution_count": 6,
   "id": "5ef6b428-1f6f-47c7-9fd2-97314ff0b7e6",
   "metadata": {},
   "outputs": [
    {
     "name": "stdout",
     "output_type": "stream",
     "text": [
      "mainSet Before add element: {1, 2, 3}\n",
      "mainSet after add element: {1, 2, 3, 4}\n"
     ]
    }
   ],
   "source": [
    "main_set= {1, 2, 3}\n",
    "print(f\"mainSet Before add element: {main_set}\")\n",
    "main_set.add(4)\n",
    "print(f\"mainSet after add element: {main_set}\")"
   ]
  },
  {
   "cell_type": "markdown",
   "id": "5cfc9711-855a-4d27-849a-3edf5fe4789b",
   "metadata": {},
   "source": [
    "#### difference()\n",
    "##### Returns a new set with elements in the set that are not in any of the other_sets."
   ]
  },
  {
   "cell_type": "code",
   "execution_count": 7,
   "id": "efb32d22-3506-4f58-9cea-99564c449db3",
   "metadata": {},
   "outputs": [
    {
     "name": "stdout",
     "output_type": "stream",
     "text": [
      "copiedSet: {1, 2, 3}\n",
      "mainSet: {1, 2, 3, 4}\n",
      "differenceSet:set()\n"
     ]
    }
   ],
   "source": [
    "difference_set = copied_set.difference(main_set)\n",
    "print(f\"copiedSet: {copied_set}\\nmainSet: {main_set}\\ndifferenceSet:{difference_set}\")"
   ]
  },
  {
   "cell_type": "code",
   "execution_count": 8,
   "id": "84e8e5b1-d90f-4c08-8961-a28a1c08d5a7",
   "metadata": {
    "scrolled": true
   },
   "outputs": [
    {
     "name": "stdout",
     "output_type": "stream",
     "text": [
      "copiedSet: {1, 2, 3, 5}\n",
      "mainSet: {1, 2, 3, 4}\n",
      "differenceSet:{5}\n"
     ]
    }
   ],
   "source": [
    "copied_set.add(5)\n",
    "difference_set = copied_set.difference(main_set)\n",
    "print(f\"copiedSet: {copied_set}\\nmainSet: {main_set}\\ndifferenceSet:{difference_set}\")"
   ]
  },
  {
   "cell_type": "code",
   "execution_count": 9,
   "id": "1d93e8a1-0c47-44d6-8dd2-690aeb1cdcd3",
   "metadata": {},
   "outputs": [
    {
     "name": "stdout",
     "output_type": "stream",
     "text": [
      "mainSet: {1, 2, 3, 4}\n",
      "copiedSet: {1, 2, 3, 5}\n",
      "differenceSet:{4}\n"
     ]
    }
   ],
   "source": [
    "difference_set = main_set.difference(copied_set)\n",
    "print(f\"mainSet: {main_set}\\ncopiedSet: {copied_set}\\ndifferenceSet:{difference_set}\")"
   ]
  },
  {
   "cell_type": "markdown",
   "id": "fecde059-efe9-4769-a03d-be2ff6bf1d5e",
   "metadata": {},
   "source": [
    "### union()\n",
    "####  Returns a new set with elements from the set and all other_sets"
   ]
  },
  {
   "cell_type": "code",
   "execution_count": 18,
   "id": "1c046777-93d2-41c1-b3ca-0e6eb2d27fa2",
   "metadata": {},
   "outputs": [
    {
     "name": "stdout",
     "output_type": "stream",
     "text": [
      "mainSet: {1, 2, 3, 4}\n",
      "copiedSet: {1, 2, 3, 5}\n",
      "unionedSet:{1, 2, 3, 4, 5}\n"
     ]
    }
   ],
   "source": [
    "main_set={4,3,2,1}\n",
    "copied_set={5,2,1,3}\n",
    "unioned_set=main_set.union(copied_set)\n",
    "print(f\"mainSet: {main_set}\\ncopiedSet: {copied_set}\\nunionedSet:{unioned_set}\")"
   ]
  },
  {
   "cell_type": "code",
   "execution_count": 11,
   "id": "645cf29d-ba76-4593-8cac-59e7f09ca5e3",
   "metadata": {},
   "outputs": [
    {
     "name": "stdout",
     "output_type": "stream",
     "text": [
      "mainSet: {1, 2, 3, 4}\n",
      "copiedSet: {1, 2, 3, 5, 7, 44, 22}\n",
      "unionedSet:{1, 2, 3, 4, 5, 7, 44, 22}\n"
     ]
    }
   ],
   "source": [
    "copied_set.add(44)\n",
    "copied_set.add(7)\n",
    "copied_set.add(22)\n",
    "unioned_set=main_set.union(copied_set)\n",
    "print(f\"mainSet: {main_set}\\ncopiedSet: {copied_set}\\nunionedSet:{unioned_set}\")"
   ]
  },
  {
   "cell_type": "markdown",
   "id": "00f7c4c1-04df-45e2-9a66-062b9921bbca",
   "metadata": {},
   "source": [
    "#### update()\n",
    "##### The update() method in Python is used to add elements from one or more sets (or other iterable objects) to the current set. It modifies the original set in place and does not return a new set."
   ]
  },
  {
   "cell_type": "code",
   "execution_count": 19,
   "id": "0a54f0c8-2f50-41be-8b81-be73995782f2",
   "metadata": {},
   "outputs": [
    {
     "name": "stdout",
     "output_type": "stream",
     "text": [
      "mainSet before update:{1, 2, 3, 4}\n",
      "copiedSet: {1, 2, 3, 5}\n",
      "mainSet after update:{1, 2, 3, 4, 5}\n",
      "copiedSet: {1, 2, 3, 5}\n"
     ]
    }
   ],
   "source": [
    "print(f\"mainSet before update:{main_set}\\ncopiedSet: {copied_set}\")\n",
    "main_set.update(copied_set)\n",
    "print(f\"mainSet after update:{main_set}\\ncopiedSet: {copied_set}\")"
   ]
  },
  {
   "cell_type": "code",
   "execution_count": 13,
   "id": "8d8f0e68-5013-426f-a196-2c41c445a306",
   "metadata": {},
   "outputs": [
    {
     "name": "stdout",
     "output_type": "stream",
     "text": [
      "mainSet after update:{1, 2, 3, 4, 33, 66, 44, 22, 55}\n",
      "\n"
     ]
    }
   ],
   "source": [
    "main_list=[22,33,44,55,66]\n",
    "main_set={1,2,3,4}\n",
    "main_set.update(main_list)\n",
    "print(f\"mainSet after update:{main_set}\\n\")"
   ]
  },
  {
   "cell_type": "code",
   "execution_count": 20,
   "id": "2d94c438-1049-4410-b18b-eeda98cbf25d",
   "metadata": {},
   "outputs": [
    {
     "name": "stdout",
     "output_type": "stream",
     "text": [
      "mainSet after update:{1, 2, 3, 4, 5, 8, 9, 10, 11, 98}\n",
      "\n"
     ]
    }
   ],
   "source": [
    "main_set={1,2,3,4,5}\n",
    "main_set.update({8, 9}, (10, 11))\n",
    "\n",
    "main_dict={98:23}\n",
    "main_set.update(main_dict)\n",
    "print(f\"mainSet after update:{main_set}\\n\")"
   ]
  },
  {
   "cell_type": "markdown",
   "id": "41decbfc-be77-4512-ac42-0231bcaf7307",
   "metadata": {},
   "source": [
    "#### subset() and superset()\n",
    "##### issubset(other_set): Returns True if the set is a subset of other_set.\n",
    "##### issuperset(other_set): Returns True if the set is a superset of other_set.\n",
    "##### isdisjoint(other_set): Returns True if the set has no elements in common with other_set."
   ]
  },
  {
   "cell_type": "code",
   "execution_count": 15,
   "id": "e8fa070d-94a3-4b10-b9e3-1e81b346159c",
   "metadata": {},
   "outputs": [
    {
     "name": "stdout",
     "output_type": "stream",
     "text": [
      "set_a is the subset of the set_b :True\n",
      "set_b is the superset of the set_a :True\n",
      "True\n",
      "True\n",
      "True\n"
     ]
    }
   ],
   "source": [
    "set_a = {1, 2}\n",
    "set_b = {1, 2, 3, 4}\n",
    "\n",
    "is_subset = set_a.issubset(set_b)         \n",
    "is_superset = set_b.issuperset(set_a)           \n",
    "is_disjoint = set_a.isdisjoint({3, 4})   \n",
    "is_disjoint_1 = set_a.isdisjoint([4,5])  \n",
    "is_disjoint_2 = set_a.isdisjoint((4,5))  \n",
    "\n",
    "print(f\"set_a is the subset of the set_b :{is_subset}\")\n",
    "print(f\"set_b is the superset of the set_a :{is_superset}\")\n",
    "print(f\"{is_disjoint}\")\n",
    "print(f\"{is_disjoint_1}\")\n",
    "print(f\"{is_disjoint_2}\")"
   ]
  },
  {
   "cell_type": "markdown",
   "id": "af185543-41df-48fa-9841-80e0792ea87a",
   "metadata": {},
   "source": [
    "#### symmetric_difference(other_set)\n",
    "##### This method returns a new set containing elements that are in either of the sets, but not in both. The original sets remain unchanged."
   ]
  },
  {
   "cell_type": "code",
   "execution_count": 16,
   "id": "9fd53fb1-b75f-4515-9f80-2eda3fd8ae97",
   "metadata": {},
   "outputs": [
    {
     "name": "stdout",
     "output_type": "stream",
     "text": [
      "{1, 2, 4, 5}\n"
     ]
    }
   ],
   "source": [
    "set_a = {1, 2, 3}\n",
    "set_b = {3, 4, 5}\n",
    "sym_diff_set = set_a.symmetric_difference(set_b) \n",
    "print(sym_diff_set)"
   ]
  },
  {
   "cell_type": "markdown",
   "id": "c6c08976-432d-4f36-a79f-28cf090523b2",
   "metadata": {},
   "source": [
    "#### symmetric_difference_update(other_set)\n",
    "##### This method updates the original set, keeping only the elements found in either the original set or other_set, but not in both. It modifies the original set in place."
   ]
  },
  {
   "cell_type": "code",
   "execution_count": 17,
   "id": "32f88177-2ae4-4257-ad92-5a498fa3a369",
   "metadata": {},
   "outputs": [
    {
     "name": "stdout",
     "output_type": "stream",
     "text": [
      "symmetric_difference_update: {1, 2, 4, 5}\n",
      "set_b: {3, 4, 5}\n"
     ]
    }
   ],
   "source": [
    "set_a = {1, 2, 3}\n",
    "set_b = {3, 4, 5}\n",
    "\n",
    "set_a.symmetric_difference_update(set_b)\n",
    "\n",
    "print(\"symmetric_difference_update:\", set_a)\n",
    "print(\"set_b:\", set_b)"
   ]
  },
  {
   "cell_type": "markdown",
   "id": "70b6e76f-a2ff-4e2f-8eeb-61585f2617e1",
   "metadata": {},
   "source": [
    "### All methods related to list\n",
    "#### Adding and Removing Elements\n",
    "##### add(element): Adds an element to the set.\n",
    "##### remove(element): Removes an element from the set. Raises a KeyError if the element is not found.\n",
    "##### discard(element): Removes an element from the set if it is present. Does nothing if the element is not found.\n",
    "##### pop(): Removes and returns an arbitrary element from the set. Raises a KeyError if the set is empty.\n",
    "##### clear(): Removes all elements from the set.\n",
    "#### Set Operations\n",
    "##### union(*other_sets): Returns a new set with elements from the set and all other_sets.\n",
    "##### update(*other_sets): Updates the set, adding elements from all other_sets.\n",
    "##### intersection(*other_sets): Returns a new set with elements common to the set and all other_sets.\n",
    "##### intersection_update(*other_sets): Updates the set, keeping only elements found in it and all other_sets.\n",
    "##### difference(*other_sets): Returns a new set with elements in the set that are not in any of the other_sets.\n",
    "##### difference_update(*other_sets): Updates the set, removing elements found in other_sets.\n",
    "##### symmetric_difference(other_set): Returns a new set with elements in either the set or other_set but not both.\n",
    "##### symmetric_difference_update(other_set): Updates the set, keeping only elements found in either set but not in both.\n",
    "#### Subset and Superset Operations\n",
    "##### issubset(other_set): Returns True if the set is a subset of other_set.\n",
    "##### issuperset(other_set): Returns True if the set is a superset of other_set.\n",
    "##### isdisjoint(other_set): Returns True if the set has no elements in common with other_set."
   ]
  },
  {
   "cell_type": "code",
   "execution_count": null,
   "id": "e60aecfb-a110-45f9-b0a3-9b0ad77c3f86",
   "metadata": {},
   "outputs": [],
   "source": []
  }
 ],
 "metadata": {
  "kernelspec": {
   "display_name": "Python 3 (ipykernel)",
   "language": "python",
   "name": "python3"
  },
  "language_info": {
   "codemirror_mode": {
    "name": "ipython",
    "version": 3
   },
   "file_extension": ".py",
   "mimetype": "text/x-python",
   "name": "python",
   "nbconvert_exporter": "python",
   "pygments_lexer": "ipython3",
   "version": "3.11.7"
  }
 },
 "nbformat": 4,
 "nbformat_minor": 5
}
