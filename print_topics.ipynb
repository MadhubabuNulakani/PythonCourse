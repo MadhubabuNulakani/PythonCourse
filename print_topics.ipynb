{
 "cells": [
  {
   "cell_type": "code",
   "execution_count": 1,
   "id": "b25c3291-ac80-49c4-8a2e-08f847f68a1f",
   "metadata": {},
   "outputs": [
    {
     "name": "stdout",
     "output_type": "stream",
     "text": [
      "Madhu\n"
     ]
    }
   ],
   "source": [
    "print(\"Madhu\")"
   ]
  },
  {
   "cell_type": "code",
   "execution_count": 2,
   "id": "31639203-9db5-4ad3-b626-12782391f58a",
   "metadata": {},
   "outputs": [
    {
     "name": "stdout",
     "output_type": "stream",
     "text": [
      "29\n"
     ]
    }
   ],
   "source": [
    "age=29\n",
    "\n",
    "\n",
    "print(age)"
   ]
  },
  {
   "cell_type": "code",
   "execution_count": 2,
   "id": "b013ddc8-24d3-4e2f-8c4d-e85bcda1608e",
   "metadata": {},
   "outputs": [
    {
     "name": "stdout",
     "output_type": "stream",
     "text": [
      "age\n"
     ]
    }
   ],
   "source": [
    "print('age')"
   ]
  },
  {
   "cell_type": "code",
   "execution_count": 5,
   "id": "dbe7c8cd-b2e0-4a5c-a26a-c62527eb3904",
   "metadata": {},
   "outputs": [
    {
     "name": "stdout",
     "output_type": "stream",
     "text": [
      "madhu 29\n"
     ]
    }
   ],
   "source": [
    "name='madhu'\n",
    "age=29\n",
    "print(name,age)"
   ]
  },
  {
   "cell_type": "code",
   "execution_count": 10,
   "id": "73f6716a-14bf-4da2-9b04-106c366186f8",
   "metadata": {},
   "outputs": [
    {
     "name": "stdout",
     "output_type": "stream",
     "text": [
      "Madhu learning the python\n",
      "python learning the Madhu\n"
     ]
    }
   ],
   "source": [
    "name=\"Madhu\"\n",
    "class_name=\"python\"\n",
    "print(\"{} learning the {}\".format(name,class_name))\n",
    "print(\"{} learning the {}\".format(class_name,name))"
   ]
  },
  {
   "cell_type": "code",
   "execution_count": 13,
   "id": "43ddbcdb-9ed2-4a76-a690-837b2756e99e",
   "metadata": {},
   "outputs": [
    {
     "name": "stdout",
     "output_type": "stream",
     "text": [
      "Madhu learning the python\n",
      "python learning the Madhu\n"
     ]
    }
   ],
   "source": [
    "print(f\"{name} learning the {class_name}\")\n",
    "print(f\"{class_name} learning the {name}\")"
   ]
  },
  {
   "cell_type": "code",
   "execution_count": 14,
   "id": "8b525b40-90a4-4e21-82e5-d4092253fa4e",
   "metadata": {},
   "outputs": [
    {
     "name": "stdout",
     "output_type": "stream",
     "text": [
      "madhu@"
     ]
    }
   ],
   "source": [
    "print(\"madhu\", end=\"@\")"
   ]
  },
  {
   "cell_type": "code",
   "execution_count": 19,
   "id": "92ad78c0-aba6-4602-abb9-398441ebf83f",
   "metadata": {},
   "outputs": [
    {
     "name": "stdout",
     "output_type": "stream",
     "text": [
      "madhu @ AI\n"
     ]
    }
   ],
   "source": [
    "print(\"madhu \", end= \"@\")\n",
    "print(\" AI\")"
   ]
  },
  {
   "cell_type": "code",
   "execution_count": 21,
   "id": "cf4bf7d9-2b47-4958-8ed7-4ff5e178e7d9",
   "metadata": {},
   "outputs": [
    {
     "name": "stdout",
     "output_type": "stream",
     "text": [
      "1995/07/27\n"
     ]
    }
   ],
   "source": [
    "print('1995','07','27', sep='/') "
   ]
  }
 ],
 "metadata": {
  "kernelspec": {
   "display_name": "Python 3 (ipykernel)",
   "language": "python",
   "name": "python3"
  },
  "language_info": {
   "codemirror_mode": {
    "name": "ipython",
    "version": 3
   },
   "file_extension": ".py",
   "mimetype": "text/x-python",
   "name": "python",
   "nbconvert_exporter": "python",
   "pygments_lexer": "ipython3",
   "version": "3.11.7"
  }
 },
 "nbformat": 4,
 "nbformat_minor": 5
}
