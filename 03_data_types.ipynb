{
 "cells": [
  {
   "cell_type": "markdown",
   "id": "7b51d4fc-9331-4cab-a164-1312bc8edff9",
   "metadata": {},
   "source": [
    "# Data Types"
   ]
  },
  {
   "cell_type": "markdown",
   "id": "68bbf80d-1d73-4422-abfa-b7c91c13635f",
   "metadata": {},
   "source": [
    "# Numaric Data Types"
   ]
  },
  {
   "cell_type": "markdown",
   "id": "ebbd6906-0f40-4c88-9249-9c35f0ab7315",
   "metadata": {},
   "source": [
    "### Int"
   ]
  },
  {
   "cell_type": "code",
   "execution_count": 6,
   "id": "5784608b-8a36-4cbd-b33b-37d5da460047",
   "metadata": {},
   "outputs": [
    {
     "name": "stdout",
     "output_type": "stream",
     "text": [
      "my age is 27\n",
      "<class 'int'>\n"
     ]
    }
   ],
   "source": [
    "age=27\n",
    "print(f\"my age is {age}\")\n",
    "print(type(age))"
   ]
  },
  {
   "cell_type": "markdown",
   "id": "363d617b-be2d-412f-93bb-542d02456ab2",
   "metadata": {},
   "source": [
    "### Float"
   ]
  },
  {
   "cell_type": "code",
   "execution_count": 7,
   "id": "d8424b66-c5db-421c-9197-315c4bf880ab",
   "metadata": {},
   "outputs": [
    {
     "name": "stdout",
     "output_type": "stream",
     "text": [
      "<class 'float'>\n"
     ]
    }
   ],
   "source": [
    "sal=15000.35\n",
    "print(type(sal))"
   ]
  },
  {
   "cell_type": "markdown",
   "id": "d773b0d0-bdee-45c5-8ebc-649cc7597129",
   "metadata": {},
   "source": [
    "### Complex"
   ]
  },
  {
   "cell_type": "code",
   "execution_count": 9,
   "id": "2ceea266-a49c-479d-97b3-7b6e073e9762",
   "metadata": {},
   "outputs": [
    {
     "name": "stdout",
     "output_type": "stream",
     "text": [
      "(2+3j)\n",
      "<class 'complex'>\n"
     ]
    }
   ],
   "source": [
    "sales_growth=2+3j\n",
    "print(sales_growth)\n",
    "print(type(sales_growth))"
   ]
  },
  {
   "cell_type": "markdown",
   "id": "5b310c3d-646b-4801-ac5f-07de2e30b650",
   "metadata": {},
   "source": [
    "### String Data Type"
   ]
  },
  {
   "cell_type": "code",
   "execution_count": 15,
   "id": "20368e88-24d8-40a9-96a5-ffc6779ded8b",
   "metadata": {},
   "outputs": [
    {
     "name": "stdout",
     "output_type": "stream",
     "text": [
      "this is madhu-----> Data type of madhu is <class 'str'> .\n"
     ]
    }
   ],
   "source": [
    "name=\"madhu\"\n",
    "print(f\"this is {name}-----> Data type of {name} is {type(name)} .\")"
   ]
  },
  {
   "cell_type": "code",
   "execution_count": 47,
   "id": "5cce845d-c263-47e9-8f73-6eb2a98776a0",
   "metadata": {},
   "outputs": [
    {
     "name": "stdout",
     "output_type": "stream",
     "text": [
      "madhu\n",
      "data scientist\n",
      "jrg,akp\n",
      "this is madhu,developer\n"
     ]
    }
   ],
   "source": [
    "name=\"madhu\"\n",
    "job='data scientist'\n",
    "address=\"\"\"jrg,akp\"\"\"\n",
    "bio='''this is madhu,developer'''\n",
    "\n",
    "print(name)\n",
    "print(job)\n",
    "print(address)\n",
    "print(bio)\n"
   ]
  },
  {
   "cell_type": "markdown",
   "id": "8a3b78a9-e4c5-4cbb-864a-7e7c1fab6816",
   "metadata": {},
   "source": [
    "### List"
   ]
  },
  {
   "cell_type": "code",
   "execution_count": 20,
   "id": "d491ef5d-a34f-4ed7-ab19-97a163d6da66",
   "metadata": {},
   "outputs": [
    {
     "name": "stdout",
     "output_type": "stream",
     "text": [
      "[26, 21, 26, 34, 36]\n"
     ]
    }
   ],
   "source": [
    "students_ages=[26,21,26,34,36]\n",
    "print(students_ages)"
   ]
  },
  {
   "cell_type": "markdown",
   "id": "48c84792-152b-4f26-af16-d5fbfac71e7e",
   "metadata": {},
   "source": [
    "### tuple"
   ]
  },
  {
   "cell_type": "code",
   "execution_count": 23,
   "id": "af7e0399-fc7a-468d-88f0-9ea2d8c673b3",
   "metadata": {},
   "outputs": [
    {
     "name": "stdout",
     "output_type": "stream",
     "text": [
      "(26, 21, 26, 34, 36)\n"
     ]
    }
   ],
   "source": [
    "students_ages=(26,21,26,34,36)\n",
    "print(students_ages)"
   ]
  },
  {
   "cell_type": "markdown",
   "id": "43eca2b2-26f9-42a8-a4c2-df6c9109ae48",
   "metadata": {},
   "source": [
    "### Range"
   ]
  },
  {
   "cell_type": "code",
   "execution_count": 25,
   "id": "beaed30a-a848-4771-b77d-9b5d6d77f6db",
   "metadata": {},
   "outputs": [
    {
     "name": "stdout",
     "output_type": "stream",
     "text": [
      "range(20, 29)\n",
      "<class 'range'>\n"
     ]
    }
   ],
   "source": [
    "students_ages=range(20,29)\n",
    "print(students_ages)\n",
    "print(type(students_ages))"
   ]
  },
  {
   "cell_type": "markdown",
   "id": "daba7a11-31d1-4a88-9756-8286aa9b57a3",
   "metadata": {},
   "source": [
    "### Dict"
   ]
  },
  {
   "cell_type": "code",
   "execution_count": 37,
   "id": "384671b8-b5a9-4d47-8cb2-9738a4c30d59",
   "metadata": {},
   "outputs": [
    {
     "name": "stdout",
     "output_type": "stream",
     "text": [
      "Madhu\n"
     ]
    }
   ],
   "source": [
    "person={\"name\":\"Madhu\",'age':27,'job':'data scientist'}\n",
    "print(person['name'])\n"
   ]
  },
  {
   "cell_type": "markdown",
   "id": "6f3032d6-00a7-475c-900e-3d90945eb3de",
   "metadata": {},
   "source": [
    "### Set"
   ]
  },
  {
   "cell_type": "code",
   "execution_count": 39,
   "id": "27fc8434-d499-443b-9429-3fce87b52112",
   "metadata": {},
   "outputs": [
    {
     "name": "stdout",
     "output_type": "stream",
     "text": [
      "{1, 3, 45, 23, 24, 25, 13}\n",
      "<class 'set'>\n"
     ]
    }
   ],
   "source": [
    "students_ages={23,24,23,25,13,45,1,3}\n",
    "print(students_ages)\n",
    "print(type(students_ages))"
   ]
  },
  {
   "cell_type": "markdown",
   "id": "52dfea08-9187-4e6c-857f-ee8ee855c3c8",
   "metadata": {},
   "source": [
    "### Boolean"
   ]
  },
  {
   "cell_type": "code",
   "execution_count": 42,
   "id": "63bcedc6-f942-41de-a110-9cb2927bae15",
   "metadata": {},
   "outputs": [
    {
     "name": "stdout",
     "output_type": "stream",
     "text": [
      "False\n"
     ]
    }
   ],
   "source": [
    "yes_or_no=False\n",
    "print(yes_or_no)"
   ]
  },
  {
   "cell_type": "markdown",
   "id": "bbc1e73b-c43b-4800-b568-5113339f70b5",
   "metadata": {},
   "source": [
    "### Null Data Type"
   ]
  },
  {
   "cell_type": "code",
   "execution_count": 45,
   "id": "05ad2dd8-023b-4926-b928-3843c21b32ca",
   "metadata": {},
   "outputs": [
    {
     "name": "stdout",
     "output_type": "stream",
     "text": [
      "None\n"
     ]
    }
   ],
   "source": [
    "no_data= None\n",
    "print(no_data)"
   ]
  },
  {
   "cell_type": "markdown",
   "id": "6680ef3e-8753-4a84-93e6-3e533b041850",
   "metadata": {},
   "source": [
    "### Long Int"
   ]
  },
  {
   "cell_type": "markdown",
   "id": "0e46cf61-24fb-42a9-a52d-6bc254581fe1",
   "metadata": {},
   "source": [
    "long_int=9912408950\n",
    "print(long_int)\n",
    "print(type(long_int))"
   ]
  },
  {
   "cell_type": "markdown",
   "id": "4813b38f-4f9a-482c-8168-2f1b585da019",
   "metadata": {},
   "source": [
    "### Binary"
   ]
  },
  {
   "cell_type": "code",
   "execution_count": 56,
   "id": "9860fc92-47f9-4f96-a045-9dabcea834b1",
   "metadata": {},
   "outputs": [
    {
     "name": "stdout",
     "output_type": "stream",
     "text": [
      "146090\n",
      "<class 'int'>\n"
     ]
    }
   ],
   "source": [
    "binary_num=0b100011101010101010\n",
    "print((binary_num))\n",
    "print(type(binary_num))"
   ]
  },
  {
   "cell_type": "markdown",
   "id": "4ef2791c-f705-48e2-aac7-e0afc0620da0",
   "metadata": {},
   "source": [
    "### Decimal numbers"
   ]
  },
  {
   "cell_type": "code",
   "execution_count": 59,
   "id": "2ff12ef6-128b-4794-9499-54a67e797e4b",
   "metadata": {},
   "outputs": [
    {
     "name": "stdout",
     "output_type": "stream",
     "text": [
      "<class 'int'>\n"
     ]
    }
   ],
   "source": [
    "decimal=1000\n",
    "print(type(decimal))"
   ]
  },
  {
   "cell_type": "markdown",
   "id": "8f4c0d35-2b8c-45c2-a4eb-99d934614af0",
   "metadata": {},
   "source": [
    "### Octal"
   ]
  },
  {
   "cell_type": "code",
   "execution_count": 60,
   "id": "88dadf7b-5f77-48a0-a7d3-ece5a1f5d759",
   "metadata": {},
   "outputs": [
    {
     "name": "stdout",
     "output_type": "stream",
     "text": [
      "1413\n",
      "<class 'int'>\n"
     ]
    }
   ],
   "source": [
    "octal=0o2605\n",
    "print(octal)\n",
    "print(type(octal))"
   ]
  },
  {
   "cell_type": "markdown",
   "id": "d61263e7-e02c-47d6-9573-375a6ddf0be0",
   "metadata": {},
   "source": [
    "### Hexa decimal"
   ]
  },
  {
   "cell_type": "code",
   "execution_count": 62,
   "id": "fd2134a2-817c-443c-b911-367e381e5d45",
   "metadata": {},
   "outputs": [
    {
     "name": "stdout",
     "output_type": "stream",
     "text": [
      "<class 'int'>\n"
     ]
    }
   ],
   "source": [
    "hexa_dec=0x123d\n",
    "print(type(hexa_dec))"
   ]
  },
  {
   "cell_type": "markdown",
   "id": "6c74d8ce-4b6d-44d7-8f4a-b56ff6202566",
   "metadata": {},
   "source": [
    "## madhu"
   ]
  }
 ],
 "metadata": {
  "kernelspec": {
   "display_name": "Python 3 (ipykernel)",
   "language": "python",
   "name": "python3"
  },
  "language_info": {
   "codemirror_mode": {
    "name": "ipython",
    "version": 3
   },
   "file_extension": ".py",
   "mimetype": "text/x-python",
   "name": "python",
   "nbconvert_exporter": "python",
   "pygments_lexer": "ipython3",
   "version": "3.11.7"
  }
 },
 "nbformat": 4,
 "nbformat_minor": 5
}
